{
 "cells": [
  {
   "cell_type": "markdown",
   "metadata": {},
   "source": [
    "# Recommendation System using PySpark"
   ]
  },
  {
   "cell_type": "markdown",
   "metadata": {},
   "source": [
    "### Lab Exercises:\n",
    "\n",
    "1) Demonstrate how to load a dataset suitable for recommendation systems into a PySpark DataFrame.\n",
    "\n",
    "2) Implement a PySpark script that splits the data and trains a recommendation model.\n",
    "\n",
    "3) Implement a PySpark script using the ALS algorithm for collaborative filtering.\n",
    "\n",
    "4) Implement code to evaluate the performance of the recommendation model using appropriate metrics."
   ]
  },
  {
   "cell_type": "code",
   "execution_count": 12,
   "metadata": {},
   "outputs": [
    {
     "name": "stderr",
     "output_type": "stream",
     "text": [
      "/home/lplab/anaconda3/lib/python3.7/site-packages/pyspark/context.py:317: FutureWarning: Python 3.7 support is deprecated in Spark 3.4.\n",
      "  warnings.warn(\"Python 3.7 support is deprecated in Spark 3.4.\", FutureWarning)\n"
     ]
    }
   ],
   "source": [
    "import pyspark\n",
    "from pyspark.sql import SparkSession\n",
    "from pyspark import SparkContext\n",
    "from pyspark.ml.feature import StringIndexer\n",
    "from pyspark.ml.recommendation import ALS\n",
    "from pyspark.ml import Pipeline\n",
    "from pyspark.ml.evaluation import RegressionEvaluator\n",
    "\n",
    "spark = SparkSession.builder.appName('MovieRecommendation').getOrCreate()"
   ]
  },
  {
   "cell_type": "code",
   "execution_count": 13,
   "metadata": {},
   "outputs": [],
   "source": [
    "json_file_path = \"movies 1.json\""
   ]
  },
  {
   "cell_type": "code",
   "execution_count": 14,
   "metadata": {},
   "outputs": [],
   "source": [
    "df = spark.read.json(json_file_path)"
   ]
  },
  {
   "cell_type": "code",
   "execution_count": 15,
   "metadata": {},
   "outputs": [
    {
     "name": "stdout",
     "output_type": "stream",
     "text": [
      "root\n",
      " |-- helpfulness: string (nullable = true)\n",
      " |-- product_id: string (nullable = true)\n",
      " |-- profile_name: string (nullable = true)\n",
      " |-- review: string (nullable = true)\n",
      " |-- score: double (nullable = true)\n",
      " |-- summary: string (nullable = true)\n",
      " |-- time: long (nullable = true)\n",
      " |-- user_id: string (nullable = true)\n",
      "\n",
      "+-----------+----------+--------------------+--------------------+-----+--------------------+----------+--------------+\n",
      "|helpfulness|product_id|        profile_name|              review|score|             summary|      time|       user_id|\n",
      "+-----------+----------+--------------------+--------------------+-----+--------------------+----------+--------------+\n",
      "|        7/7|B003AI2VGA|Brian E. Erland \"...|Synopsis: On the ...|  3.0|\"There Is So Much...|1182729600|A141HP4LYPWMSR|\n",
      "|        4/4|B003AI2VGA|          Grady Harp|THE VIRGIN OF JUA...|  3.0|Worthwhile and Im...|1181952000|A328S9RN3U5M68|\n",
      "|       8/10|B003AI2VGA|Chrissy K. McVay ...|The scenes in thi...|  5.0|This movie needed...|1164844800|A1I7QGUDP043DG|\n",
      "|        1/1|B003AI2VGA|        golgotha.gov|THE VIRGIN OF JUA...|  3.0|distantly based o...|1197158400|A1M5405JH9THP9|\n",
      "|        1/1|B003AI2VGA|KerrLines \"&#34;M...|Informationally, ...|  3.0|\"What's going on ...|1188345600| ATXL536YX71TR|\n",
      "|        0/0|B003AI2VGA|abra \"a devoted r...|The murders in Ju...|  2.0|Pretty pointless ...|1229040000|A3QYDL5CDNYN66|\n",
      "|       3/11|B003AI2VGA| Charles R. Williams|Mexican men are m...|  1.0|This is junk, sta...|1164153600| AQJVNDW6YZFQS|\n",
      "|      64/65|B00006HAXW|   Anthony Accordino|Over the past few...|  5.0|A  Rock N Roll Hi...|1060473600| AD4CDZK7D31XP|\n",
      "|      26/26|B00006HAXW|    Joseph P. Aiello|I recvd this vide...|  5.0|A  MUST-HAVE  vid...|1041292800|A3Q4S5DFVPB70D|\n",
      "|      24/24|B00006HAXW|     \"bruce_from_la\"|Wow! When I saw t...|  5.0|If You Like DooWo...|1061164800|A2P7UB02HAVEPB|\n",
      "|      22/23|B00006HAXW|    Henrique Peirano|I have the Doo Wo...|  4.0|    I expected more.|1039564800|A2TX99AZKDK0V7|\n",
      "|      14/14|B00006HAXW|      Richard Albero|Having worked in ...|  5.0|Professional Exce...|1045526400| AFC8IKR407HSK|\n",
      "|        9/9|B00006HAXW|                 Les|The people who ha...|  5.0|Marvelous, just M...|1062979200|A1FRPGQYQTAOR1|\n",
      "|        9/9|B00006HAXW|     Joseph M. Kotow|I have all of the...|  5.0|Pittsburgh - Home...|1042502400|A1RSDE90N6RSZF|\n",
      "|        7/7|B00006HAXW|      \"fellafromnyc\"|The performance o...|  4.0|They sang in the ...|1049846400|A1OUBOGB5970AO|\n",
      "|        7/7|B00006HAXW|           S. Dorman|Get it, also get ...|  5.0|DOO WOP RECORDED ...|1047945600|A3NPHQVIY59Y0Y|\n",
      "|        7/7|B00006HAXW|                 RFP|Excellent, excell...|  5.0|ROCK RYTHM AND DO...|1038787200| AFKMBAY28XO8A|\n",
      "|        4/4|B00006HAXW|           C. Thomas|This video is awe...|  5.0|Unbelievable Best...|1177804800| A66KMXH9V7OGU|\n",
      "|        3/3|B00006HAXW|   Michael A. Martin|As I stated in my...|  5.0|Another outstandi...|1200096000| AFJ27ZV9183B8|\n",
      "|        5/6|B00006HAXW|C. W. Emblom \"Bil...|I own both the VH...|  5.0|Outstanding Wheth...|1082592000| AXMKAXC0TR9AW|\n",
      "+-----------+----------+--------------------+--------------------+-----+--------------------+----------+--------------+\n",
      "only showing top 20 rows\n",
      "\n"
     ]
    }
   ],
   "source": [
    "df.printSchema()\n",
    "df.show()"
   ]
  },
  {
   "cell_type": "code",
   "execution_count": 19,
   "metadata": {},
   "outputs": [
    {
     "name": "stdout",
     "output_type": "stream",
     "text": [
      "+--------------+----------+-----------+\n",
      "|       user_id|product_id| prediction|\n",
      "+--------------+----------+-----------+\n",
      "|A1HMNDO4IUFB0P|B002OHDRF2|  2.9723883|\n",
      "|A1NLJT22OOPC9H|B002OHDRF2|  2.9723883|\n",
      "|A3F2JUHM6C9RZ9|B0001G6PZC|  0.9354527|\n",
      "|A3NQI2JLNPFOF8|6303257933| -2.8448637|\n",
      "|A1NIEIENEWXCCQ|B0001G6PZC|0.070017986|\n",
      "|A22RY8N8CNDF3A|B000UGBOT0|   8.940226|\n",
      "|A2VE83MZF98ITY|0790747324| -2.1918008|\n",
      "|A1DUWRMZVLRKAJ|B002OHDRF2|   2.894468|\n",
      "|A2AVV9LV9UXT6F|B000063W1R| 0.43413496|\n",
      "|A32AK8FOAZEPE2|B000063W1R| 0.25041533|\n",
      "|A32AK8FOAZEPE2|B0016OLXN2|  0.7743087|\n",
      "| AW8G5VS3T7IB3|B002OHDRF2|  3.9094448|\n",
      "|A1VW4ZBXKEYTZ9|B002OHDRF2| 0.99079615|\n",
      "| AIOXMENE1HBR7|0790747324|  2.2108438|\n",
      "|A1YQ6QB2127AJ4|B0001G6PZC| -1.0496899|\n",
      "|A16837CKPTA07O|B000063W1R|  -2.073543|\n",
      "|A1CLHLW9PFKG9Q|B002OHDRF2|  4.9141936|\n",
      "|A1SX3Z5KAAY9M7|B0012EM5GK|  4.7644606|\n",
      "|A356RFKNIG043B|B00096S43U| -10.630995|\n",
      "|A25ZVI6RH1KA5L|0790747324|  1.5432976|\n",
      "+--------------+----------+-----------+\n",
      "only showing top 20 rows\n",
      "\n"
     ]
    }
   ],
   "source": [
    "#q2 & q3\n",
    "\n",
    "# Extract relevant columns for recommendation\n",
    "df = df.select(\"user_id\", \"product_id\", \"score\")\n",
    "\n",
    "# Check for missing or NaN values in the 'score' column\n",
    "df = df.dropna(subset=[\"score\"])\n",
    "\n",
    "# Convert user_id and product_id to numeric indices\n",
    "user_indexer = StringIndexer(inputCol=\"user_id\", outputCol=\"user_index\", handleInvalid=\"keep\")\n",
    "product_indexer = StringIndexer(inputCol=\"product_id\", outputCol=\"product_index\", handleInvalid=\"keep\")\n",
    "\n",
    "# Create an ALS (Alternating Least Squares) recommendation model\n",
    "als = ALS(maxIter=5, regParam=0.01, userCol=\"user_index\", itemCol=\"product_index\", ratingCol=\"score\")\n",
    "\n",
    "# Create a pipeline to execute the indexers and ALS model\n",
    "pipeline = Pipeline(stages=[user_indexer, product_indexer, als])\n",
    "\n",
    "# Split the data into training and test sets\n",
    "(training_data, test_data) = df.randomSplit([0.8, 0.2])\n",
    "\n",
    "# Train the recommendation model\n",
    "model = pipeline.fit(training_data)\n",
    "\n",
    "# Make predictions on the test set\n",
    "predictions = model.transform(test_data)\n",
    "\n",
    "# Check for NaN values in the 'prediction' column\n",
    "predictions = predictions.dropna(subset=[\"prediction\"])\n",
    "\n",
    "# Show the predictions\n",
    "predictions.select(\"user_id\", \"product_id\", \"prediction\").show()\n"
   ]
  },
  {
   "cell_type": "code",
   "execution_count": 54,
   "metadata": {},
   "outputs": [
    {
     "data": {
      "text/plain": [
       "'A141HP4LYPWMSR'"
      ]
     },
     "execution_count": 54,
     "metadata": {},
     "output_type": "execute_result"
    }
   ],
   "source": [
    "first_id = df.head()\n",
    "first_id[0]"
   ]
  },
  {
   "cell_type": "code",
   "execution_count": 59,
   "metadata": {},
   "outputs": [
    {
     "name": "stdout",
     "output_type": "stream",
     "text": [
      "+----------+--------------+\n",
      "|product_id|       user_id|\n",
      "+----------+--------------+\n",
      "|B000ZLFALI|A141HP4LYPWMSR|\n",
      "|B0002HOEPI|A141HP4LYPWMSR|\n",
      "+----------+--------------+\n",
      "\n",
      "+----------+--------------+----------+-------------+----------+\n",
      "|product_id|       user_id|user_index|product_index|prediction|\n",
      "+----------+--------------+----------+-------------+----------+\n",
      "|B0002HOEPI|A141HP4LYPWMSR|      24.0|        267.0| 3.6757596|\n",
      "|B000ZLFALI|A141HP4LYPWMSR|      24.0|          4.0| 2.7316642|\n",
      "+----------+--------------+----------+-------------+----------+\n",
      "\n"
     ]
    }
   ],
   "source": [
    "user1 = test_data.filter(test_data['user_id']==first_id[0]).select(['product_id','user_id'])\n",
    "user1.show()\n",
    "recommendations = model.transform(user1) \n",
    "recommendations.orderBy('prediction',ascending=False).show()"
   ]
  },
  {
   "cell_type": "code",
   "execution_count": 58,
   "metadata": {},
   "outputs": [
    {
     "name": "stdout",
     "output_type": "stream",
     "text": [
      "Root Mean Squared Error (RMSE): 4.546954626466892\n"
     ]
    }
   ],
   "source": [
    "#q4\n",
    "\n",
    "# Evaluate the model using RMSE\n",
    "evaluator = RegressionEvaluator(metricName=\"rmse\", labelCol=\"score\", predictionCol=\"prediction\")\n",
    "rmse = evaluator.evaluate(predictions)\n",
    "print(f\"Root Mean Squared Error (RMSE): {rmse}\")"
   ]
  },
  {
   "cell_type": "code",
   "execution_count": 7,
   "metadata": {},
   "outputs": [],
   "source": [
    "# Stop the Spark session\n",
    "spark.stop()"
   ]
  },
  {
   "cell_type": "code",
   "execution_count": null,
   "metadata": {},
   "outputs": [],
   "source": []
  }
 ],
 "metadata": {
  "kernelspec": {
   "display_name": "Python 3 (ipykernel)",
   "language": "python",
   "name": "python3"
  },
  "language_info": {
   "codemirror_mode": {
    "name": "ipython",
    "version": 3
   },
   "file_extension": ".py",
   "mimetype": "text/x-python",
   "name": "python",
   "nbconvert_exporter": "python",
   "pygments_lexer": "ipython3",
   "version": "3.7.0"
  }
 },
 "nbformat": 4,
 "nbformat_minor": 2
}
