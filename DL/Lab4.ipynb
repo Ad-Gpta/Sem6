{
 "cells": [
  {
   "cell_type": "markdown",
   "id": "d752d59a-27c4-4c53-b5d8-f82ac280ec08",
   "metadata": {},
   "source": [
    "# Feedforward Neural Network"
   ]
  },
  {
   "cell_type": "markdown",
   "id": "cf28d0f5-0807-4c29-9587-16464d9d58ae",
   "metadata": {},
   "source": [
    "## Exercise Questions"
   ]
  },
  {
   "cell_type": "markdown",
   "id": "99490346-0ca4-41ea-bd64-ea967bd88ce5",
   "metadata": {},
   "source": [
    "### Q1\n",
    "Implement a two layer feed forward networl for XOR Logic Gate using sigmoid fcn"
   ]
  },
  {
   "cell_type": "code",
   "execution_count": 1,
   "id": "f80bbbee-da93-4c9c-84cf-99f09bbb1539",
   "metadata": {},
   "outputs": [],
   "source": [
    "import torch\n",
    "import torch.nn as nn\n",
    "import matplotlib.pyplot as plt\n",
    "from torch.utils.data import Dataset, DataLoader\n",
    "import torch.nn as nn\n",
    "import numpy as np"
   ]
  },
  {
   "cell_type": "code",
   "execution_count": 2,
   "id": "e107cad8-e9f6-45a8-a8ad-5b6704185338",
   "metadata": {},
   "outputs": [
    {
     "data": {
      "text/plain": [
       "True"
      ]
     },
     "execution_count": 2,
     "metadata": {},
     "output_type": "execute_result"
    }
   ],
   "source": [
    "losses = []\n",
    "torch.manual_seed(42)\n",
    "\n",
    "torch.cuda.is_available()"
   ]
  },
  {
   "cell_type": "code",
   "execution_count": 3,
   "id": "f80363f7-65fc-4126-ab92-9729ba2b126f",
   "metadata": {},
   "outputs": [],
   "source": [
    "x = torch.tensor([[0,0],[0,1],[1,0],[1,1]], dtype=torch.float32)\n",
    "y = torch.tensor([0,1,1,0], dtype = torch.float32)"
   ]
  },
  {
   "cell_type": "code",
   "execution_count": 4,
   "id": "044cb2e9-c99f-4fdf-bdc2-7e2227a94569",
   "metadata": {},
   "outputs": [],
   "source": [
    "class xor(nn.Module):\n",
    "    def __init__(self):\n",
    "        super(xor,self).__init__()\n",
    "        self.l1 = nn.Linear(2,2,bias=True)\n",
    "        self.sig1 = nn.Sigmoid()\n",
    "        self.l2 = nn.Linear(2,1,bias = True)\n",
    "        self.sig2 = nn.Sigmoid()\n",
    "    def forward(self, x):\n",
    "        x = self.l1(x)\n",
    "        x = self.sig1(x)\n",
    "        x = self.l2(x)\n",
    "        #x = self.sig2(x)\n",
    "        return x"
   ]
  },
  {
   "cell_type": "code",
   "execution_count": 5,
   "id": "66b1f605-7b12-4176-9023-b45a25116374",
   "metadata": {
    "editable": true,
    "slideshow": {
     "slide_type": ""
    },
    "tags": []
   },
   "outputs": [],
   "source": [
    "class mydata(Dataset):\n",
    "    def __init__(self, x, y):\n",
    "        self.x = x\n",
    "        self.y = y\n",
    "    def __len__(self):\n",
    "        return len(self.x)\n",
    "    def __getitem__(self, id):\n",
    "        return self.x[id].to(torch.device(\"cuda\")), self.y[id].to(torch.device(\"cuda\"))"
   ]
  },
  {
   "cell_type": "code",
   "execution_count": 6,
   "id": "91d91c6c-66b6-4546-b294-733412bf3c5a",
   "metadata": {},
   "outputs": [
    {
     "name": "stdout",
     "output_type": "stream",
     "text": [
      "xor(\n",
      "  (l1): Linear(in_features=2, out_features=2, bias=True)\n",
      "  (sig1): Sigmoid()\n",
      "  (l2): Linear(in_features=2, out_features=1, bias=True)\n",
      "  (sig2): Sigmoid()\n",
      ")\n"
     ]
    }
   ],
   "source": [
    "data = mydata(x,y)\n",
    "batch = 1\n",
    "loader = DataLoader(data, batch_size = batch, shuffle = True)\n",
    "device = torch.device(\"cuda\")\n",
    "model = xor().to(device)\n",
    "print(model)"
   ]
  },
  {
   "cell_type": "code",
   "execution_count": 7,
   "id": "5af3391c-ea21-402e-be86-c6c0c3995490",
   "metadata": {},
   "outputs": [],
   "source": [
    "loss = torch.nn.MSELoss()\n",
    "optim = torch.optim.SGD(model.parameters(), lr = 0.03)"
   ]
  },
  {
   "cell_type": "code",
   "execution_count": 8,
   "id": "5d995807-14e3-4e83-b598-56ed57ebcb58",
   "metadata": {},
   "outputs": [
    {
     "name": "stdout",
     "output_type": "stream",
     "text": [
      "epoch: 0\n",
      "Loss:0.301132844761014\n",
      "\n",
      "epoch: 1000\n",
      "Loss:0.27038102224469185\n",
      "\n",
      "epoch: 2000\n",
      "Loss:0.27022553235292435\n",
      "\n",
      "epoch: 3000\n",
      "Loss:0.26847536861896515\n",
      "\n",
      "epoch: 4000\n",
      "Loss:0.26516806334257126\n",
      "\n",
      "epoch: 5000\n",
      "Loss:0.22409657016396523\n",
      "\n",
      "epoch: 6000\n",
      "Loss:0.0001402673997290549\n",
      "\n",
      "epoch: 7000\n",
      "Loss:1.2700951401711791e-11\n",
      "\n",
      "epoch: 8000\n",
      "Loss:3.2152058793144533e-12\n",
      "\n",
      "epoch: 9000\n",
      "Loss:3.0020430585864233e-12\n",
      "\n"
     ]
    },
    {
     "data": {
      "text/plain": [
       "[<matplotlib.lines.Line2D at 0x7f1cf67d0290>]"
      ]
     },
     "execution_count": 8,
     "metadata": {},
     "output_type": "execute_result"
    },
    {
     "data": {
      "image/png": "[encoded data removed]",
      "text/plain": [
       "<Figure size 640x480 with 1 Axes>"
      ]
     },
     "metadata": {},
     "output_type": "display_data"
    }
   ],
   "source": [
    "def train_one_epoch(index):\n",
    "    total = 0\n",
    "    for i, data in enumerate(loader):\n",
    "        inputs, labels = data\n",
    "        optim.zero_grad()\n",
    "        outputs = model(inputs)\n",
    "        l = loss(outputs.flatten(), labels)\n",
    "        l.backward()\n",
    "        optim.step()\n",
    "        total += l.item()\n",
    "    return total/len(loader)/batch\n",
    "\n",
    "losses = []\n",
    "epochs = 10000\n",
    "for epoch in range(epochs):\n",
    "    model.train(True)\n",
    "    l = train_one_epoch(model)\n",
    "    losses.append(l)\n",
    "    if epoch%1000==0:\n",
    "        print(f\"epoch: {epoch}\\nLoss:{l}\\n\")\n",
    "\n",
    "plt.plot(losses)"
   ]
  },
  {
   "cell_type": "code",
   "execution_count": 9,
   "id": "6779ae97-f183-4abf-8b73-23dac7e8dc18",
   "metadata": {},
   "outputs": [
    {
     "name": "stdout",
     "output_type": "stream",
     "text": [
      "tensor([0.5000], device='cuda:0', grad_fn=<MulBackward0>)\n"
     ]
    }
   ],
   "source": [
    "def sigmoid(x):\n",
    "    return 1.0/(1+torch.exp(-x))\n",
    "    \n",
    "test = torch.tensor([0,0], dtype = torch.float32).to(device)\n",
    "answer = 1\n",
    "layer1 = torch.matmul(model.l1.weight, test) + model.l1.bias\n",
    "layer1 = sigmoid(layer1)\n",
    "layer2 = torch.matmul(model.l2.weight, layer1) + model.l2.bias\n",
    "layer2 = sigmoid(layer2)\n",
    "print(layer2)"
   ]
  },
  {
   "cell_type": "code",
   "execution_count": 10,
   "id": "8a682ff4-7c12-412e-a168-a1ef6ac848ca",
   "metadata": {},
   "outputs": [
    {
     "name": "stdout",
     "output_type": "stream",
     "text": [
      "('l1.weight', Parameter containing:\n",
      "tensor([[-1.9767,  2.0750],\n",
      "        [-3.0809,  3.3435]], device='cuda:0', requires_grad=True))\n",
      "('l1.bias', Parameter containing:\n",
      "tensor([ 0.7012, -2.5002], device='cuda:0', requires_grad=True))\n",
      "('l2.weight', Parameter containing:\n",
      "tensor([[-2.6653,  2.7713]], device='cuda:0', requires_grad=True))\n",
      "('l2.bias', Parameter containing:\n",
      "tensor([1.5715], device='cuda:0', requires_grad=True))\n"
     ]
    }
   ],
   "source": [
    "#checking model parameters\n",
    "\n",
    "for param in model.named_parameters():\n",
    "    print(param)"
   ]
  },
  {
   "cell_type": "markdown",
   "id": "c7f7ecba-f75d-4839-a269-ad324d43723f",
   "metadata": {},
   "source": [
    "### Q2\n",
    "Repeat Q1 with activation function ReLU"
   ]
  },
  {
   "cell_type": "code",
   "execution_count": 11,
   "id": "7917d507-1279-4140-a0b0-1b4b98a6c020",
   "metadata": {},
   "outputs": [],
   "source": [
    "class xor(nn.Module):\n",
    "    def __init__(self):\n",
    "        super(xor,self).__init__()\n",
    "        self.l1 = nn.Linear(2,2,bias=True)\n",
    "        self.r1 = nn.ReLU()\n",
    "        self.l2 = nn.Linear(2,1,bias = True)\n",
    "        self.r2 = nn.ReLU()\n",
    "    def forward(self, x):\n",
    "        x = self.l1(x)\n",
    "        x = self.r1(x)\n",
    "        x = self.l2(x)\n",
    "        #x = self.sig2(x)\n",
    "        return x"
   ]
  },
  {
   "cell_type": "code",
   "execution_count": 12,
   "id": "75d1e956-198c-46b0-8491-e79f8180dae9",
   "metadata": {},
   "outputs": [
    {
     "name": "stdout",
     "output_type": "stream",
     "text": [
      "xor(\n",
      "  (l1): Linear(in_features=2, out_features=2, bias=True)\n",
      "  (r1): ReLU()\n",
      "  (l2): Linear(in_features=2, out_features=1, bias=True)\n",
      "  (r2): ReLU()\n",
      ")\n"
     ]
    }
   ],
   "source": [
    "model = xor().to(device)\n",
    "print(model)"
   ]
  },
  {
   "cell_type": "code",
   "execution_count": 13,
   "id": "9d8b5449-b13a-425c-bf3a-a58f59529a9c",
   "metadata": {},
   "outputs": [
    {
     "name": "stdout",
     "output_type": "stream",
     "text": [
      "epoch: 0\n",
      "Loss:0.2442370504140854\n",
      "\n",
      "epoch: 1000\n",
      "Loss:0.2442370504140854\n",
      "\n",
      "epoch: 2000\n",
      "Loss:0.2442370504140854\n",
      "\n",
      "epoch: 3000\n",
      "Loss:0.2442370504140854\n",
      "\n",
      "epoch: 4000\n",
      "Loss:0.2442370504140854\n",
      "\n",
      "epoch: 5000\n",
      "Loss:0.2442370504140854\n",
      "\n",
      "epoch: 6000\n",
      "Loss:0.2442370504140854\n",
      "\n",
      "epoch: 7000\n",
      "Loss:0.2442370504140854\n",
      "\n",
      "epoch: 8000\n",
      "Loss:0.2442370504140854\n",
      "\n",
      "epoch: 9000\n",
      "Loss:0.2442370504140854\n",
      "\n"
     ]
    },
    {
     "data": {
      "text/plain": [
       "[<matplotlib.lines.Line2D at 0x7f1cdd7e8850>]"
      ]
     },
     "execution_count": 13,
     "metadata": {},
     "output_type": "execute_result"
    },
    {
     "data": {
      "image/png": "[encoded data removed]",
      "text/plain": [
       "<Figure size 640x480 with 1 Axes>"
      ]
     },
     "metadata": {},
     "output_type": "display_data"
    }
   ],
   "source": [
    "losses = []\n",
    "epochs = 10000\n",
    "for epoch in range(epochs):\n",
    "    model.train(True)\n",
    "    l = train_one_epoch(model)\n",
    "    losses.append(l)\n",
    "    if epoch%1000==0:\n",
    "        print(f\"epoch: {epoch}\\nLoss:{l}\\n\")\n",
    "\n",
    "plt.plot(losses)"
   ]
  },
  {
   "cell_type": "code",
   "execution_count": 14,
   "id": "24f59085-a30b-4c58-87ac-6644d3eeba24",
   "metadata": {},
   "outputs": [
    {
     "name": "stdout",
     "output_type": "stream",
     "text": [
      "Parameter containing:\n",
      "tensor([[ 0.5116, -0.6022],\n",
      "        [ 0.2503, -0.6092]], device='cuda:0', requires_grad=True) Parameter containing:\n",
      "tensor([-0.3227,  0.4751], device='cuda:0', requires_grad=True)\n",
      "Parameter containing:\n",
      "tensor([[0.0724, 0.2112]], device='cuda:0', requires_grad=True) Parameter containing:\n",
      "tensor([0.4477], device='cuda:0', requires_grad=True)\n"
     ]
    }
   ],
   "source": [
    "print(model.l1.weight, model.l1.bias)\n",
    "print(model.l2.weight, model.l2.bias)"
   ]
  },
  {
   "cell_type": "code",
   "execution_count": 15,
   "id": "e7cabab3-561f-4732-9b5b-cc2f92e8010c",
   "metadata": {},
   "outputs": [],
   "source": [
    "def relu(x):\n",
    "    return torch.max(torch.tensor(0), x)"
   ]
  },
  {
   "cell_type": "code",
   "execution_count": 16,
   "id": "650de347-5c3f-4fcd-b965-df097ef0b58c",
   "metadata": {},
   "outputs": [
    {
     "name": "stdout",
     "output_type": "stream",
     "text": [
      "tensor([0.5481], device='cuda:0', grad_fn=<MaximumBackward0>)\n"
     ]
    }
   ],
   "source": [
    "test = torch.tensor([0,0], dtype = torch.float32).to(device)\n",
    "answer = 1\n",
    "layer1 = torch.matmul(test,model.l1.weight.T) + model.l1.bias\n",
    "layer1 = relu(layer1)\n",
    "layer2 = torch.matmul(layer1, model.l2.weight.T) + model.l2.bias\n",
    "layer2 = relu(layer2)\n",
    "print(layer2)"
   ]
  },
  {
   "cell_type": "code",
   "execution_count": 17,
   "id": "26e0e309-4637-49bb-a194-c2974774573d",
   "metadata": {},
   "outputs": [
    {
     "data": {
      "text/plain": [
       "tensor([0.5481], device='cuda:0', grad_fn=<ViewBackward0>)"
      ]
     },
     "execution_count": 17,
     "metadata": {},
     "output_type": "execute_result"
    }
   ],
   "source": [
    "model(torch.tensor([0,0], dtype = torch.float32).to(device))"
   ]
  },
  {
   "cell_type": "markdown",
   "id": "dac5e8cc-0e13-4621-a4d5-450d3f46bd2f",
   "metadata": {},
   "source": [
    "### Q3"
   ]
  },
  {
   "cell_type": "code",
   "execution_count": 24,
   "id": "8e95596d-0818-4c6b-b416-698d43d07d08",
   "metadata": {},
   "outputs": [
    {
     "name": "stdout",
     "output_type": "stream",
     "text": [
      "0.9638493619367495\n"
     ]
    }
   ],
   "source": [
    "import numpy as np\n",
    "\n",
    "linear1w11 = -1.9767\n",
    "linear1w12 = 2.0750\n",
    "linear1w21 = -3.0809\n",
    "linear1w22 = 3.3435\n",
    "linear1b1 = 0.7012\n",
    "linear1b2 = -2.5002\n",
    "\n",
    "linear2w1 = -2.6653\n",
    "linear2w2 = 2.7713\n",
    "linear2b = 1.5715\n",
    "\n",
    "x1 = 0.0\n",
    "x2 = 1.0\n",
    "\n",
    "def sigmoid(x):\n",
    "    return 1/(1+np.exp(-x))\n",
    "\n",
    "y1 = linear1w11*x1 + linear1w21*x2 + linear1b1\n",
    "y2 = linear1w12*x1 + linear1w22*x2 + linear1b2\n",
    "\n",
    "z1 = sigmoid(y1)\n",
    "z2 = sigmoid(y2)\n",
    "\n",
    "output = linear2w1*z1 + linear2w2*z2 + linear2b\n",
    "print(sigmoid(output))"
   ]
  },
  {
   "cell_type": "markdown",
   "id": "7e7965b7-2730-4c84-a236-18dbe8110a39",
   "metadata": {},
   "source": [
    "### Q4\n",
    "Implement a FFN with two hidden layers classifying digits in MNIST dataset."
   ]
  },
  {
   "cell_type": "code",
   "execution_count": 18,
   "id": "f42a0ea0-82ba-41c1-9777-2c6730402223",
   "metadata": {},
   "outputs": [],
   "source": [
    "import torchvision\n",
    "import torchvision.transforms as transforms"
   ]
  },
  {
   "cell_type": "code",
   "execution_count": 19,
   "id": "9b8f01a6-ab8c-4397-a081-054894061805",
   "metadata": {},
   "outputs": [],
   "source": [
    "device = torch.device('cuda' if torch.cuda.is_available() else 'cpu')"
   ]
  },
  {
   "cell_type": "code",
   "execution_count": 20,
   "id": "4fb56812-6c22-4840-8918-6195e42d6a9c",
   "metadata": {},
   "outputs": [],
   "source": [
    "input_size = 784 # 28x28\n",
    "hidden_size = 500 \n",
    "num_classes = 10\n",
    "num_epochs = 2\n",
    "batch_size = 100\n",
    "learning_rate = 0.001"
   ]
  },
  {
   "cell_type": "code",
   "execution_count": 21,
   "id": "db87e3fd-4018-4304-8ea7-ec2210b9b3fb",
   "metadata": {},
   "outputs": [],
   "source": [
    "# Import MNIST dataset \n",
    "train_dataset = torchvision.datasets.MNIST(root='./data', \n",
    "                                           train=True, \n",
    "                                           transform=transforms.ToTensor(),  \n",
    "                                           download=True)\n",
    "\n",
    "test_dataset = torchvision.datasets.MNIST(root='./data', \n",
    "                                          train=False, \n",
    "                                          transform=transforms.ToTensor())"
   ]
  },
  {
   "cell_type": "code",
   "execution_count": 22,
   "id": "2ded777a-ad47-4d09-845b-2390885a61d3",
   "metadata": {},
   "outputs": [],
   "source": [
    "# Data loader\n",
    "train_loader = torch.utils.data.DataLoader(dataset=train_dataset, \n",
    "                                           batch_size=batch_size, \n",
    "                                           shuffle=True)\n",
    "\n",
    "test_loader = torch.utils.data.DataLoader(dataset=test_dataset, \n",
    "                                          batch_size=batch_size, \n",
    "                                          shuffle=False)"
   ]
  },
  {
   "cell_type": "code",
   "execution_count": 25,
   "id": "b9d07856-c4f9-4e32-9e70-208544b43df3",
   "metadata": {},
   "outputs": [
    {
     "data": {
      "image/png": "[encoded data removed]",
      "text/plain": [
       "<Figure size 640x480 with 6 Axes>"
      ]
     },
     "metadata": {},
     "output_type": "display_data"
    }
   ],
   "source": [
    "examples = iter(test_loader)\n",
    "example_data, example_targets = examples.__next__()\n",
    "\n",
    "for i in range(6):\n",
    "    plt.subplot(2,3,i+1)\n",
    "    plt.imshow(example_data[i][0], cmap='gray')\n",
    "plt.show()"
   ]
  },
  {
   "cell_type": "code",
   "execution_count": 26,
   "id": "6be7c88b-3411-4558-bebb-7831ea9478c7",
   "metadata": {},
   "outputs": [],
   "source": [
    "# Fully connected neural network with one hidden layer\n",
    "class NeuralNet(nn.Module):\n",
    "    def __init__(self, input_size, hidden_size, num_classes):\n",
    "        super(NeuralNet, self).__init__()\n",
    "        self.input_size = input_size\n",
    "        self.l1 = nn.Linear(input_size, hidden_size) \n",
    "        self.relu = nn.ReLU()\n",
    "        self.l2 = nn.Linear(hidden_size, num_classes)  \n",
    "    \n",
    "    def forward(self, x):\n",
    "        out = self.l1(x)\n",
    "        out = self.relu(out)\n",
    "        out = self.l2(out)\n",
    "        # no activation and no softmax at the end\n",
    "        return out\n",
    "\n",
    "model = NeuralNet(input_size, hidden_size, num_classes).to(device)"
   ]
  },
  {
   "cell_type": "code",
   "execution_count": 27,
   "id": "87bae2c0-57fa-4db1-9996-f2e164a7318a",
   "metadata": {},
   "outputs": [],
   "source": [
    "# Loss and optimizer\n",
    "criterion = nn.CrossEntropyLoss()\n",
    "optimizer = torch.optim.Adam(model.parameters(), lr=learning_rate)"
   ]
  },
  {
   "cell_type": "code",
   "execution_count": 28,
   "id": "1230ae5b-f59c-4489-984e-b1b502f9da72",
   "metadata": {},
   "outputs": [
    {
     "name": "stdout",
     "output_type": "stream",
     "text": [
      "Epoch [1/2], Step [100/600], Loss: 0.5282\n",
      "Epoch [1/2], Step [200/600], Loss: 0.2420\n",
      "Epoch [1/2], Step [300/600], Loss: 0.1090\n",
      "Epoch [1/2], Step [400/600], Loss: 0.1161\n",
      "Epoch [1/2], Step [500/600], Loss: 0.1132\n",
      "Epoch [1/2], Step [600/600], Loss: 0.0700\n",
      "Epoch [2/2], Step [100/600], Loss: 0.2066\n",
      "Epoch [2/2], Step [200/600], Loss: 0.1056\n",
      "Epoch [2/2], Step [300/600], Loss: 0.1256\n",
      "Epoch [2/2], Step [400/600], Loss: 0.0815\n",
      "Epoch [2/2], Step [500/600], Loss: 0.0731\n",
      "Epoch [2/2], Step [600/600], Loss: 0.1656\n"
     ]
    }
   ],
   "source": [
    "# Train the model\n",
    "n_total_steps = len(train_loader)\n",
    "for epoch in range(num_epochs):\n",
    "    for i, (images, labels) in enumerate(train_loader):  \n",
    "        # origin shape: [100, 1, 28, 28]\n",
    "        # resized: [100, 784]\n",
    "        images = images.reshape(-1, 28*28).to(device)\n",
    "        labels = labels.to(device)\n",
    "\n",
    "        # Forward pass\n",
    "        outputs = model(images)\n",
    "        loss = criterion(outputs, labels)\n",
    "\n",
    "        # Backward and optimize\n",
    "        optimizer.zero_grad()\n",
    "        loss.backward()\n",
    "        optimizer.step()\n",
    "\n",
    "        if (i+1) % 100 == 0:\n",
    "            print (f'Epoch [{epoch+1}/{num_epochs}], Step [{i+1}/{n_total_steps}], Loss: {loss.item():.4f}')"
   ]
  },
  {
   "cell_type": "code",
   "execution_count": 29,
   "id": "20c9411d-ac76-4e17-84c3-1695d17934f3",
   "metadata": {},
   "outputs": [
    {
     "name": "stdout",
     "output_type": "stream",
     "text": [
      "Accuracy of the network on the 10000 test images: 97.21 %\n"
     ]
    }
   ],
   "source": [
    "# Test the model\n",
    "# In test phase, we don't need to compute gradients (for memory efficiency)\n",
    "with torch.no_grad():\n",
    "    n_correct = 0\n",
    "    n_samples = 0\n",
    "    for images, labels in test_loader:\n",
    "        images = images.reshape(-1, 28*28).to(device)\n",
    "        labels = labels.to(device)\n",
    "        outputs = model(images)\n",
    "        # max returns (value ,index)\n",
    "        _, predicted = torch.max(outputs.data, 1)\n",
    "        n_samples += labels.size(0)\n",
    "        n_correct += (predicted == labels).sum().item()\n",
    "\n",
    "    acc = 100.0 * n_correct / n_samples\n",
    "    print(f'Accuracy of the network on the 10000 test images: {acc} %')"
   ]
  },
  {
   "cell_type": "code",
   "execution_count": null,
   "id": "12589285-41e4-4c8d-9e75-b189142af68f",
   "metadata": {},
   "outputs": [],
   "source": []
  }
 ],
 "metadata": {
  "kernelspec": {
   "display_name": "Python 3 (ipykernel)",
   "language": "python",
   "name": "python3"
  },
  "language_info": {
   "codemirror_mode": {
    "name": "ipython",
    "version": 3
   },
   "file_extension": ".py",
   "mimetype": "text/x-python",
   "name": "python",
   "nbconvert_exporter": "python",
   "pygments_lexer": "ipython3",
   "version": "3.11.7"
  }
 },
 "nbformat": 4,
 "nbformat_minor": 5
}
