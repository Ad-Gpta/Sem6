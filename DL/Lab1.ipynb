{
 "cells": [
  {
   "cell_type": "markdown",
   "id": "d9c5b9ce-1b5e-4eee-b793-3e15438eaf46",
   "metadata": {},
   "source": [
    "# Introduction to tensors"
   ]
  },
  {
   "cell_type": "code",
   "execution_count": 2,
   "id": "b4650120-4162-4779-8abf-cd3578adf784",
   "metadata": {},
   "outputs": [],
   "source": [
    "import torch"
   ]
  },
  {
   "cell_type": "markdown",
   "id": "e79333ea-5419-406a-8c92-1ec1ec32641b",
   "metadata": {},
   "source": [
    "Q1) show reshaping, viewing, stacking, squeezing, unsqueezing of tensors"
   ]
  },
  {
   "cell_type": "code",
   "execution_count": 3,
   "id": "67bb01ee-55c8-47b1-8e00-2e9894d5d489",
   "metadata": {},
   "outputs": [
    {
     "name": "stdout",
     "output_type": "stream",
     "text": [
      "before reshape :  tensor([1, 2, 3, 4, 5, 6])\n",
      "after reshape :  tensor([[1, 2],\n",
      "        [3, 4],\n",
      "        [5, 6]])\n",
      "view:  tensor([[1, 2, 3],\n",
      "        [4, 5, 6],\n",
      "        [7, 8, 9]])\n",
      "stack (dim 0): \n",
      " tensor([[1, 2, 3],\n",
      "        [4, 5, 6]])\n",
      "stack (dim 1): \n",
      " tensor([[1, 4],\n",
      "        [2, 5],\n",
      "        [3, 6]])\n",
      "d.size() =  torch.Size([3, 2, 5])\n",
      "e1 =  tensor([0., 1., 2., 3., 4., 5., 6., 7.])\n",
      "unsqueeze dim =0 :   torch.Size([1, 8])\n",
      "unsqueeze dim =1 :   torch.Size([8, 1])\n"
     ]
    }
   ],
   "source": [
    "a = torch.tensor([1,2,3,4,5,6])\n",
    "print('before reshape : ',a)\n",
    "\n",
    "a = a.reshape([3,2])\n",
    "print('after reshape : ',a)\n",
    "\n",
    "b = torch.tensor([1,2,3,4,5,6,7,8,9])\n",
    "print('view: ' ,b.view(3,3))\n",
    "\n",
    "c1= torch.tensor([1,2,3])\n",
    "c2 = torch.tensor([4,5,6])\n",
    "c = torch.stack((c1,c2), dim=0)\n",
    "print('stack (dim 0): \\n' ,c)\n",
    "\n",
    "c = torch.stack((c1,c2), dim=1)\n",
    "print('stack (dim 1): \\n' ,c)\n",
    "\n",
    "\n",
    "d1 = torch.randn(3,1,2,1,5)\n",
    "d = torch.squeeze(d1)\n",
    "print('d.size() = ',d.size())\n",
    "\n",
    "e1 = torch.arange(8, dtype=torch.float)\n",
    "print('e1 = ', e1)\n",
    "\n",
    "e = torch.unsqueeze(e1, dim=0)\n",
    "print('unsqueeze dim =0 :  ', e.size())\n",
    "\n",
    "e = torch.unsqueeze(e1, dim=1)\n",
    "print('unsqueeze dim =1 :  ', e.size())"
   ]
  },
  {
   "cell_type": "markdown",
   "id": "e5dfc6cc-3b12-4c57-9999-873c7455b9c7",
   "metadata": {},
   "source": [
    "Q2) show torch.permute()"
   ]
  },
  {
   "cell_type": "code",
   "execution_count": 4,
   "id": "92681f15-fc3a-4ce3-b0f6-e090b95fb137",
   "metadata": {},
   "outputs": [
    {
     "name": "stdout",
     "output_type": "stream",
     "text": [
      "torch.Size([3, 5, 2])\n",
      "tensor([[[ 0.2291, -0.2878],\n",
      "         [-0.7506, -0.5217],\n",
      "         [-0.6628,  0.0643],\n",
      "         [-0.5715,  0.2028],\n",
      "         [ 0.3270, -0.1267]],\n",
      "\n",
      "        [[-0.0934, -0.9500],\n",
      "         [-1.0053, -1.3176],\n",
      "         [ 1.4736, -0.5063],\n",
      "         [ 1.2469, -0.0294],\n",
      "         [-1.2344, -0.3839]],\n",
      "\n",
      "        [[-0.9872, -1.3017],\n",
      "         [-0.7518,  0.0938],\n",
      "         [-1.4954, -1.0144],\n",
      "         [-0.0439, -1.4929],\n",
      "         [ 0.0075, -0.5814]]])\n",
      "torch.Size([2, 3, 5])\n",
      "tensor([[[ 0.2291, -0.7506, -0.6628, -0.5715,  0.3270],\n",
      "         [-0.0934, -1.0053,  1.4736,  1.2469, -1.2344],\n",
      "         [-0.9872, -0.7518, -1.4954, -0.0439,  0.0075]],\n",
      "\n",
      "        [[-0.2878, -0.5217,  0.0643,  0.2028, -0.1267],\n",
      "         [-0.9500, -1.3176, -0.5063, -0.0294, -0.3839],\n",
      "         [-1.3017,  0.0938, -1.0144, -1.4929, -0.5814]]])\n"
     ]
    }
   ],
   "source": [
    "# creating a tensor with random\n",
    "# values of dimension 3 X 5 X 2\n",
    "input_var = torch.randn(3, 5, 2)\n",
    "\n",
    "# print size\n",
    "print(input_var.size())\n",
    "\n",
    "print(input_var)\n",
    "\n",
    "# dimensions permuted\n",
    "input_var = input_var.permute(2, 0, 1)\n",
    "\n",
    "# print size\n",
    "print(input_var.size())\n",
    "\n",
    "print(input_var)"
   ]
  },
  {
   "cell_type": "markdown",
   "id": "125a2be4-bdf0-43eb-b104-c5c35dcc4782",
   "metadata": {},
   "source": [
    "Q3) indexing in tensors"
   ]
  },
  {
   "cell_type": "code",
   "execution_count": 5,
   "id": "b1dd597c-4517-4982-b158-9dfe50d6075d",
   "metadata": {},
   "outputs": [
    {
     "name": "stdout",
     "output_type": "stream",
     "text": [
      "tensor([[1, 5, 3],\n",
      "        [8, 9, 2]])\n",
      "at 1,0 =  tensor(8)\n",
      "at 1 =  tensor([8, 9, 2])\n"
     ]
    }
   ],
   "source": [
    "tensor = torch.tensor([[1,5,3],[8,9,2]])\n",
    "print(tensor)\n",
    "\n",
    "print('at 1,0 = ' ,tensor[1,0])\n",
    "print('at 1 = ' ,tensor[1])"
   ]
  },
  {
   "cell_type": "markdown",
   "id": "b408efa0-f993-41b4-92a9-857b1a39857d",
   "metadata": {},
   "source": [
    "Q4) convert numpy arrays to tensors and back to nparray"
   ]
  },
  {
   "cell_type": "code",
   "execution_count": 6,
   "id": "67894a6f-fa46-4898-b785-d828baa50210",
   "metadata": {},
   "outputs": [
    {
     "name": "stdout",
     "output_type": "stream",
     "text": [
      "[[1 2 3]\n",
      " [5 6 6]\n",
      " [7 8 9]] <class 'numpy.ndarray'>\n",
      "tensor([[1, 2, 3],\n",
      "        [5, 6, 6],\n",
      "        [7, 8, 9]]) <class 'torch.Tensor'>\n",
      "[[1 2 3]\n",
      " [5 6 6]\n",
      " [7 8 9]] <class 'numpy.ndarray'>\n"
     ]
    }
   ],
   "source": [
    "import numpy as np\n",
    "\n",
    "npx = np.array([[1,2,3],[5,6,6], [7,8,9]])\n",
    "print(npx, type(npx))\n",
    "\n",
    "# change to tensor\n",
    "t = torch.from_numpy(npx)\n",
    "\n",
    "print(t, type(t))\n",
    "\n",
    "npy = t.numpy()\n",
    "\n",
    "print(npy, type(npy))"
   ]
  },
  {
   "cell_type": "markdown",
   "id": "f8a50c87-01df-448b-bcb8-228f6bdf00c0",
   "metadata": {},
   "source": [
    "Q5) create random tensor with shape (7,7)"
   ]
  },
  {
   "cell_type": "code",
   "execution_count": 7,
   "id": "6c4b201f-aeed-482e-a600-eeeee11fafe1",
   "metadata": {},
   "outputs": [
    {
     "name": "stdout",
     "output_type": "stream",
     "text": [
      "tensor([[0.3487, 0.4905, 0.9439, 0.4420, 0.6779, 0.1685, 0.1182],\n",
      "        [0.7538, 0.4243, 0.3901, 0.3188, 0.6473, 0.9623, 0.0432],\n",
      "        [0.5590, 0.7300, 0.4295, 0.4529, 0.9965, 0.5801, 0.7019],\n",
      "        [0.6497, 0.4312, 0.5624, 0.6565, 0.4955, 0.6429, 0.6534],\n",
      "        [0.5343, 0.9188, 0.7224, 0.5305, 0.5001, 0.2636, 0.3235],\n",
      "        [0.1955, 0.1141, 0.2439, 0.9150, 0.9301, 0.9747, 0.5452],\n",
      "        [0.7967, 0.9431, 0.3031, 0.0012, 0.1456, 0.2860, 0.5604]]) torch.Size([7, 7])\n"
     ]
    }
   ],
   "source": [
    "random_tensor = torch.rand(7,7)\n",
    "\n",
    "print(random_tensor, random_tensor.shape)"
   ]
  },
  {
   "cell_type": "markdown",
   "id": "1c47270d-c065-4d92-a04c-64ea819482de",
   "metadata": {},
   "source": [
    "Q6) Perform matrix multiplication"
   ]
  },
  {
   "cell_type": "code",
   "execution_count": 24,
   "id": "93174b98-e0bf-42ac-b584-c0236b6e14ab",
   "metadata": {},
   "outputs": [
    {
     "name": "stdout",
     "output_type": "stream",
     "text": [
      "tensor([[0.3487, 0.4905, 0.9439, 0.4420, 0.6779, 0.1685, 0.1182],\n",
      "        [0.7538, 0.4243, 0.3901, 0.3188, 0.6473, 0.9623, 0.0432],\n",
      "        [0.5590, 0.7300, 0.4295, 0.4529, 0.9965, 0.5801, 0.7019],\n",
      "        [0.6497, 0.4312, 0.5624, 0.6565, 0.4955, 0.6429, 0.6534],\n",
      "        [0.5343, 0.9188, 0.7224, 0.5305, 0.5001, 0.2636, 0.3235],\n",
      "        [0.1955, 0.1141, 0.2439, 0.9150, 0.9301, 0.9747, 0.5452],\n",
      "        [0.7967, 0.9431, 0.3031, 0.0012, 0.1456, 0.2860, 0.5604]])\n",
      "tensor([[0.5866, 0.9828, 0.7399, 0.3641, 0.0116, 0.4782, 0.5684]])\n",
      "tensor([[0.5866],\n",
      "        [0.9828],\n",
      "        [0.7399],\n",
      "        [0.3641],\n",
      "        [0.0116],\n",
      "        [0.4782],\n",
      "        [0.5684]])\n",
      "Final matrix after multiplication: \n",
      " tensor([[1.7015],\n",
      "        [1.7561],\n",
      "        [2.2159],\n",
      "        [2.1445],\n",
      "        [2.2598],\n",
      "        [1.5271],\n",
      "        [2.0758]])\n"
     ]
    }
   ],
   "source": [
    "print(random_tensor)\n",
    "\n",
    "random_tensor2 = torch.rand(1,7)\n",
    "print(random_tensor2)\n",
    "\n",
    "random_tensor2 = torch.transpose(random_tensor2, 0, 1)\n",
    "print(random_tensor2)\n",
    "\n",
    "mult = torch.mm(random_tensor, random_tensor2)\n",
    "\n",
    "print(\"Final matrix after multiplication: \\n\",mult)"
   ]
  },
  {
   "cell_type": "markdown",
   "id": "57278a84-009c-498b-92ab-21ea301d522c",
   "metadata": {},
   "source": [
    "Q7) create two random tensors of shape (2,3) and send them both to GPU"
   ]
  },
  {
   "cell_type": "code",
   "execution_count": 8,
   "id": "711ec716-5503-43e6-8cc7-0beefe71e5e3",
   "metadata": {},
   "outputs": [
    {
     "name": "stdout",
     "output_type": "stream",
     "text": [
      "a.device =  cpu\n",
      "b.device =  cpu\n",
      "True\n",
      "a.device =  cuda:0\n",
      "b.device =  cuda:0\n"
     ]
    }
   ],
   "source": [
    "a = torch.rand(2,3)\n",
    "b = torch.rand(2,3)\n",
    "\n",
    "print('a.device = ',a.device)\n",
    "print('b.device = ',b.device)\n",
    "\n",
    "# send to gpu\n",
    "print(torch.cuda.is_available())\n",
    "\n",
    "if torch.cuda.is_available():\n",
    "   a = a.cuda()\n",
    "   b = b.cuda()\n",
    "\n",
    "print('a.device = ',a.device)\n",
    "print('b.device = ',b.device)"
   ]
  },
  {
   "cell_type": "code",
   "execution_count": null,
   "id": "40b92eec-0512-4470-b35f-0f3177aa2156",
   "metadata": {},
   "outputs": [],
   "source": []
  }
 ],
 "metadata": {
  "kernelspec": {
   "display_name": "Python 3 (ipykernel)",
   "language": "python",
   "name": "python3"
  },
  "language_info": {
   "codemirror_mode": {
    "name": "ipython",
    "version": 3
   },
   "file_extension": ".py",
   "mimetype": "text/x-python",
   "name": "python",
   "nbconvert_exporter": "python",
   "pygments_lexer": "ipython3",
   "version": "3.11.7"
  }
 },
 "nbformat": 4,
 "nbformat_minor": 5
}
