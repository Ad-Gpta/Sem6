{
 "cells": [
  {
   "cell_type": "markdown",
   "id": "18275f0e",
   "metadata": {},
   "source": [
    "# Lab 8 Regularization"
   ]
  },
  {
   "cell_type": "markdown",
   "id": "45de0acb",
   "metadata": {},
   "source": [
    "## Exercise Questions:\n",
    "\n",
    "\n",
    "Q1) Implement L2 regularization on cat-dog classification neural network. Train the model on the\n",
    "dataset, and observe the impact of the regularization on the weight parameters. (Do not use data augmentation).\n",
    "\n",
    "a. L2 regularization using optimizer’s weight decay\n",
    "\n",
    "b. L2 regularization using loop to find L2 norm of weights"
   ]
  },
  {
   "cell_type": "code",
   "execution_count": 2,
   "id": "0db45a64",
   "metadata": {},
   "outputs": [
    {
     "name": "stdout",
     "output_type": "stream",
     "text": [
      "Extraction completed.\n"
     ]
    }
   ],
   "source": [
    "#trying to extract zipfile\n",
    "import zipfile\n",
    "\n",
    "zip_file = \"data/cats_and_dogs_filtered.zip\"\n",
    "destination = \"./data\"\n",
    "\n",
    "# Extract the zip file\n",
    "with zipfile.ZipFile(zip_file, 'r') as zip_ref:\n",
    "    zip_ref.extractall(destination)\n",
    "\n",
    "print(\"Extraction completed.\")"
   ]
  },
  {
   "cell_type": "code",
   "execution_count": 3,
   "id": "5c4a8b11",
   "metadata": {},
   "outputs": [],
   "source": [
    "import torch\n",
    "from torch import nn\n",
    "import torchvision\n",
    "from torchvision import transforms, datasets\n",
    "from torch.utils.data import DataLoader\n",
    "from torchvision.datasets import ImageFolder\n",
    "from PIL import Image\n",
    "import matplotlib.pyplot as plt\n",
    "import glob"
   ]
  },
  {
   "cell_type": "code",
   "execution_count": 4,
   "id": "2be5da9d",
   "metadata": {},
   "outputs": [],
   "source": [
    "class CNN(nn.Module):\n",
    "    def __init__(self):\n",
    "        super().__init__()\n",
    "        self.conv1 = nn.Conv2d(in_channels=3, out_channels=32, kernel_size=3, padding=1)\n",
    "        self.conv2 = nn.Conv2d(in_channels=32, out_channels=64, kernel_size=3, padding=1)\n",
    "        self.conv3 = nn.Conv2d(in_channels=64, out_channels=128, kernel_size=3, padding=1)\n",
    "        self.fc1 = nn.Linear(128 * 28 * 28, 512)\n",
    "        self.fc2 = nn.Linear(512, 2)\n",
    "\n",
    "    def forward(self, x):\n",
    "        x = torch.relu(self.conv1(x))\n",
    "        x = torch.max_pool2d(x, kernel_size=2, stride=2)\n",
    "        x = torch.relu(self.conv2(x))\n",
    "        x = torch.max_pool2d(x, kernel_size=2, stride=2)\n",
    "        x = torch.relu(self.conv3(x))\n",
    "        x = torch.max_pool2d(x, kernel_size=2, stride=2)\n",
    "        x = x.view(x.size(0), -1)\n",
    "        x = torch.relu(self.fc1(x))\n",
    "        x = self.fc2(x)\n",
    "        return x\n",
    "    \n",
    "#set up transform function - to set data size and type to tensor\n",
    "#Composes several transforms together\n",
    "transform = transforms.Compose([\n",
    "    transforms.Resize((224, 224)),\n",
    "    transforms.ToTensor()\n",
    "])"
   ]
  },
  {
   "cell_type": "code",
   "execution_count": 5,
   "id": "f8abdefa",
   "metadata": {},
   "outputs": [],
   "source": [
    "train_data = ImageFolder(root=\"data/cats_and_dogs_filtered/train\", transform=transform)\n",
    "test_data = ImageFolder(root=\"data/cats_and_dogs_filtered/validation\", transform=transform)\n",
    "\n",
    "\n",
    "train_loader = DataLoader(dataset=train_data, batch_size=32, shuffle=True)\n",
    "test_loader = DataLoader(dataset=test_data, batch_size=32)"
   ]
  },
  {
   "cell_type": "code",
   "execution_count": 6,
   "id": "12f3519d",
   "metadata": {},
   "outputs": [],
   "source": [
    "device = torch.device(\"cuda\" if torch.cuda.is_available() else \"cpu\")"
   ]
  },
  {
   "cell_type": "code",
   "execution_count": 7,
   "id": "820bb49f",
   "metadata": {},
   "outputs": [
    {
     "name": "stderr",
     "output_type": "stream",
     "text": [
      "/opt/anaconda3/envs/pytorch_env/lib/python3.11/site-packages/torch/cuda/__init__.py:611: UserWarning: Can't initialize NVML\n",
      "  warnings.warn(\"Can't initialize NVML\")\n"
     ]
    }
   ],
   "source": [
    "model = CNN().to(device)"
   ]
  },
  {
   "cell_type": "code",
   "execution_count": 8,
   "id": "c005bb2a",
   "metadata": {},
   "outputs": [],
   "source": [
    "loss_fn = nn.CrossEntropyLoss()\n",
    "optimizer = torch.optim.Adam(params=model.parameters(), lr=0.01)"
   ]
  },
  {
   "cell_type": "code",
   "execution_count": 9,
   "id": "22d74cc3",
   "metadata": {},
   "outputs": [],
   "source": [
    "def train_step(model, data_loader, loss_fn, optimizer, device):\n",
    "    model.train()\n",
    "    train_loss = 0\n",
    "    for X, y in data_loader:\n",
    "        X, y = X.to(device), y.to(device)\n",
    "        optimizer.zero_grad()\n",
    "        y_pred = model(X)\n",
    "        loss = loss_fn(y_pred, y)\n",
    "\n",
    "        l2_reg = sum(torch.norm(param)**2 for param in model.parameters())\n",
    "        loss += l2_reg * 0.01\n",
    "        train_loss += loss.item()\n",
    "        loss.backward()\n",
    "        optimizer.step()\n",
    "    train_loss /= len(data_loader)\n",
    "    return train_loss\n",
    "\n",
    "\n",
    "def test_step(model, data_loader, loss_fn, device):\n",
    "    model.eval()\n",
    "    test_loss = 0\n",
    "    correct = 0\n",
    "    total = 0\n",
    "    with torch.no_grad():\n",
    "        for X, y in data_loader:\n",
    "            X, y = X.to(device), y.to(device)\n",
    "            y_pred = model(X)\n",
    "            loss = loss_fn(y_pred, y)\n",
    "            test_loss += loss.item()\n",
    "            _, predicted = torch.max(y_pred, 1)\n",
    "            total += y.size(0)\n",
    "            correct += (predicted == y).sum().item()\n",
    "    test_loss /= len(data_loader)\n",
    "    accuracy = correct / total\n",
    "    return test_loss, accuracy"
   ]
  },
  {
   "cell_type": "code",
   "execution_count": 12,
   "id": "54d361f6",
   "metadata": {},
   "outputs": [],
   "source": [
    "torch.cuda.empty_cache()"
   ]
  },
  {
   "cell_type": "code",
   "execution_count": 13,
   "id": "054807e5",
   "metadata": {},
   "outputs": [
    {
     "name": "stdout",
     "output_type": "stream",
     "text": [
      "Epoch 1/5:\n",
      "Train Loss: 1.4990\n",
      "Test Loss: 0.6954, Accuracy: 0.5000\n",
      "Epoch 2/5:\n",
      "Train Loss: 1.0776\n",
      "Test Loss: 0.6929, Accuracy: 0.5000\n",
      "Epoch 3/5:\n",
      "Train Loss: 0.9636\n",
      "Test Loss: 0.6934, Accuracy: 0.5000\n",
      "Epoch 4/5:\n",
      "Train Loss: 0.8804\n",
      "Test Loss: 0.6930, Accuracy: 0.5000\n",
      "Epoch 5/5:\n",
      "Train Loss: 0.9063\n",
      "Test Loss: 0.6936, Accuracy: 0.5000\n"
     ]
    }
   ],
   "source": [
    "num_epochs = 5\n",
    "for epoch in range(num_epochs):\n",
    "    print(f\"Epoch {epoch + 1}/{num_epochs}:\")\n",
    "    train_loss = train_step(model, train_loader, loss_fn, optimizer, device)\n",
    "    print(f\"Train Loss: {train_loss:.4f}\")\n",
    "    test_loss, accuracy = test_step(model, test_loader, loss_fn, device)\n",
    "    print(f\"Test Loss: {test_loss:.4f}, Accuracy: {accuracy:.4f}\")"
   ]
  },
  {
   "cell_type": "markdown",
   "id": "630f3448-51e5-48df-8dd8-ec70063a09fd",
   "metadata": {},
   "source": [
    "Q2) Implement L1 regularization on cat-dog classification neural network. Train the model on the\n",
    "dataset, and observe the impact of the regularization on the weight parameters. (Do not use\n",
    "data augmentation).\n",
    "\n",
    "a. L1 regularization using optimizer’s weight decay\n",
    "\n",
    "b. L1regularization using loop to find L1 norm of weight"
   ]
  },
  {
   "cell_type": "code",
   "execution_count": null,
   "id": "0e140aef-9641-4924-b15c-e3da0731960f",
   "metadata": {},
   "outputs": [],
   "source": [
    "#same CNN model and data\n",
    "\n",
    "device = torch.device(\"cuda\" if torch.cuda.is_available() else \"cpu\")\n",
    "model = CNN().to(device)\n",
    "\n",
    "def train_step_l1(model, data_loader, loss_fn, optimizer, device, l1_lambda=0.01):\n",
    "    model.train()\n",
    "    train_loss = 0\n",
    "    for X, y in data_loader:\n",
    "        X, y = X.to(device), y.to(device)\n",
    "        optimizer.zero_grad()\n",
    "        y_pred = model(X)\n",
    "        loss = loss_fn(y_pred, y)\n",
    "        l1_reg = sum(torch.norm(param, p=1) for param in model.parameters())\n",
    "        loss += l1_reg * l1_lambda\n",
    "        train_loss += loss.item()\n",
    "        loss.backward()\n",
    "        optimizer.step()\n",
    "    train_loss /= len(data_loader)\n",
    "    return train_loss\n",
    "\n",
    "def test_step(model, data_loader, loss_fn, device):\n",
    "    model.eval()\n",
    "    test_loss = 0\n",
    "    correct = 0\n",
    "    total = 0\n",
    "    with torch.no_grad():\n",
    "        for X, y in data_loader:\n",
    "            X, y = X.to(device), y.to(device)\n",
    "            y_pred = model(X)\n",
    "            loss = loss_fn(y_pred, y)\n",
    "            test_loss += loss.item()\n",
    "            _, predicted = torch.max(y_pred, 1)\n",
    "            total += y.size(0)\n",
    "            correct += (predicted == y).sum().item()\n",
    "    test_loss /= len(data_loader)\n",
    "    accuracy = correct / total\n",
    "    return test_loss, accuracy\n",
    "\n",
    "num_epochs = 10\n",
    "for epoch in range(num_epochs):\n",
    "    print(f\"Epoch {epoch + 1}/{num_epochs}:\")\n",
    "    train_loss = train_step_l1(model, train_loader, loss_fn, optimizer, device)\n",
    "    print(f\"Train Loss: {train_loss:.4f}\")\n",
    "    test_loss, accuracy = test_step(model, test_loader, loss_fn, device)\n",
    "    print(f\"Test Loss: {test_loss:.4f}, Accuracy: {accuracy:.4f}\")\n"
   ]
  }
 ],
 "metadata": {
  "kernelspec": {
   "display_name": "Python 3 (ipykernel)",
   "language": "python",
   "name": "python3"
  },
  "language_info": {
   "codemirror_mode": {
    "name": "ipython",
    "version": 3
   },
   "file_extension": ".py",
   "mimetype": "text/x-python",
   "name": "python",
   "nbconvert_exporter": "python",
   "pygments_lexer": "ipython3",
   "version": "3.11.7"
  }
 },
 "nbformat": 4,
 "nbformat_minor": 5
}
