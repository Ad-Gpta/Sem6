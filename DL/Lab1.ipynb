{
 "cells": [
  {
   "cell_type": "markdown",
   "id": "d9c5b9ce-1b5e-4eee-b793-3e15438eaf46",
   "metadata": {},
   "source": [
    "# Introduction to tensors"
   ]
  },
  {
   "cell_type": "code",
   "execution_count": 1,
   "id": "b4650120-4162-4779-8abf-cd3578adf784",
   "metadata": {},
   "outputs": [
    {
     "ename": "ModuleNotFoundError",
     "evalue": "No module named 'torch'",
     "output_type": "error",
     "traceback": [
      "\u001b[0;31m---------------------------------------------------------------------------\u001b[0m",
      "\u001b[0;31mModuleNotFoundError\u001b[0m                       Traceback (most recent call last)",
      "\u001b[0;32m/tmp/ipykernel_9600/4265195184.py\u001b[0m in \u001b[0;36m<module>\u001b[0;34m\u001b[0m\n\u001b[0;32m----> 1\u001b[0;31m \u001b[0;32mimport\u001b[0m \u001b[0mtorch\u001b[0m\u001b[0;34m\u001b[0m\u001b[0;34m\u001b[0m\u001b[0m\n\u001b[0m",
      "\u001b[0;31mModuleNotFoundError\u001b[0m: No module named 'torch'"
     ]
    }
   ],
   "source": [
    "import torch"
   ]
  },
  {
   "cell_type": "markdown",
   "id": "e79333ea-5419-406a-8c92-1ec1ec32641b",
   "metadata": {},
   "source": [
    "Q1) show reshaping, viewing, stacking, squeezing, unsqueezing of tensors"
   ]
  },
  {
   "cell_type": "code",
   "execution_count": null,
   "id": "67bb01ee-55c8-47b1-8e00-2e9894d5d489",
   "metadata": {},
   "outputs": [],
   "source": [
    "a = torch.tensor([1,2,3,4,5,6])\n",
    "print('before reshape : ',a)\n",
    "\n",
    "a = a.reshape([3,2])\n",
    "print('after reshape : ',a)\n",
    "\n",
    "b = torch.tensor([1,2,3,4,5,6,7,8,9])\n",
    "print('view: ' ,b.view(3,3))\n",
    "\n",
    "c1= torch.tensor([1,2,3])\n",
    "c2 = torch.tensor([4,5,6])\n",
    "c = torch.stack((c1,c2), dim=0)\n",
    "print('stack (dim 0): \\n' ,c)\n",
    "\n",
    "c = torch.stack((c1,c2), dim=1)\n",
    "print('stack (dim 1): \\n' ,c)\n",
    "\n",
    "\n",
    "d1 = torch.randn(3,1,2,1,5)\n",
    "d = torch.squeeze(d1)\n",
    "print('d.size() = ',d.size())\n",
    "\n",
    "e1 = torch.arange(8, dtype=torch.float)\n",
    "print('e1 = ', e1)\n",
    "\n",
    "e = torch.unsqueeze(e1, dim=0)\n",
    "print('unsqueeze dim =0 :  ', e.size())\n",
    "\n",
    "e = torch.unsqueeze(e1, dim=1)\n",
    "print('unsqueeze dim =1 :  ', e.size())"
   ]
  },
  {
   "cell_type": "markdown",
   "id": "e5dfc6cc-3b12-4c57-9999-873c7455b9c7",
   "metadata": {},
   "source": [
    "Q2) show torch.permute()"
   ]
  },
  {
   "cell_type": "code",
   "execution_count": null,
   "id": "92681f15-fc3a-4ce3-b0f6-e090b95fb137",
   "metadata": {},
   "outputs": [],
   "source": [
    "# creating a tensor with random\n",
    "# values of dimension 3 X 5 X 2\n",
    "input_var = torch.randn(3, 5, 2)\n",
    "\n",
    "# print size\n",
    "print(input_var.size())\n",
    "\n",
    "print(input_var)\n",
    "\n",
    "# dimensions permuted\n",
    "input_var = input_var.permute(2, 0, 1)\n",
    "\n",
    "# print size\n",
    "print(input_var.size())\n",
    "\n",
    "print(input_var)"
   ]
  },
  {
   "cell_type": "markdown",
   "id": "125a2be4-bdf0-43eb-b104-c5c35dcc4782",
   "metadata": {},
   "source": [
    "Q3) indexing in tensors"
   ]
  },
  {
   "cell_type": "code",
   "execution_count": null,
   "id": "b1dd597c-4517-4982-b158-9dfe50d6075d",
   "metadata": {},
   "outputs": [],
   "source": [
    "tensor = torch.tensor([[1,5,3],[8,9,2]])\n",
    "print(tensor)\n",
    "\n",
    "print('at 1,0 = ' ,tensor[1,0])\n",
    "print('at 1 = ' ,tensor[1])"
   ]
  },
  {
   "cell_type": "markdown",
   "id": "b408efa0-f993-41b4-92a9-857b1a39857d",
   "metadata": {},
   "source": [
    "Q4) convert numpy arrays to tensors and back to nparray"
   ]
  },
  {
   "cell_type": "code",
   "execution_count": null,
   "id": "67894a6f-fa46-4898-b785-d828baa50210",
   "metadata": {},
   "outputs": [],
   "source": [
    "import numpy as np\n",
    "\n",
    "npx = np.array([[1,2,3],[5,6,6], [7,8,9]])\n",
    "print(npx, type(npx))\n",
    "\n",
    "# change to tensor\n",
    "t = torch.from_numpy(npx)\n",
    "\n",
    "print(t, type(t))\n",
    "\n",
    "npy = t.numpy()\n",
    "\n",
    "print(npy, type(npy))"
   ]
  },
  {
   "cell_type": "markdown",
   "id": "f8a50c87-01df-448b-bcb8-228f6bdf00c0",
   "metadata": {},
   "source": [
    "Q5) create random tensor with shape (7,7)"
   ]
  },
  {
   "cell_type": "code",
   "execution_count": null,
   "id": "6c4b201f-aeed-482e-a600-eeeee11fafe1",
   "metadata": {},
   "outputs": [],
   "source": [
    "random_tensor = torch.rand(7,7)\n",
    "\n",
    "print(random_tensor, random_tensor.shape)"
   ]
  },
  {
   "cell_type": "markdown",
   "id": "1c47270d-c065-4d92-a04c-64ea819482de",
   "metadata": {},
   "source": [
    "Q6) Perform matrix multiplication"
   ]
  },
  {
   "cell_type": "code",
   "execution_count": null,
   "id": "f84d326f",
   "metadata": {},
   "outputs": [],
   "source": [
    "print(random_tensor)\n",
    "\n",
    "random_tensor2 = torch.rand(1,7)\n",
    "print(random_tensor2)\n",
    "\n",
    "random_tensor2 = torch.transpose(random_tensor2, 0, 1)\n",
    "print(random_tensor2)\n",
    "\n",
    "mult = torch.mm(random_tensor, random_tensor2)\n",
    "\n",
    "print(\"Final matrix after multiplication: \\n\",mult)"
   ]
  },
  {
   "cell_type": "markdown",
   "id": "57278a84-009c-498b-92ab-21ea301d522c",
   "metadata": {},
   "source": [
    "Q7) create two random tensors of shape (2,3) and send them both to GPU"
   ]
  },
  {
   "cell_type": "code",
   "execution_count": null,
   "id": "711ec716-5503-43e6-8cc7-0beefe71e5e3",
   "metadata": {},
   "outputs": [],
   "source": [
    "a = torch.rand(2,3)\n",
    "b = torch.rand(2,3)\n",
    "\n",
    "print('a.device = ',a.device)\n",
    "print('b.device = ',b.device)\n",
    "\n",
    "# send to gpu\n",
    "print(torch.cuda.is_available())\n",
    "\n",
    "if torch.cuda.is_available():\n",
    "   a = a.cuda()\n",
    "   b = b.cuda()\n",
    "\n",
    "print('a.device = ',a.device)\n",
    "print('b.device = ',b.device)"
   ]
  },
  {
   "cell_type": "code",
   "execution_count": null,
   "id": "40b92eec-0512-4470-b35f-0f3177aa2156",
   "metadata": {},
   "outputs": [],
   "source": []
  }
 ],
 "metadata": {
  "kernelspec": {
   "display_name": "Python 3 (ipykernel)",
   "language": "python",
   "name": "python3"
  },
  "language_info": {
   "codemirror_mode": {
    "name": "ipython",
    "version": 3
   },
   "file_extension": ".py",
   "mimetype": "text/x-python",
   "name": "python",
   "nbconvert_exporter": "python",
   "pygments_lexer": "ipython3",
   "version": "3.10.12"
  }
 },
 "nbformat": 4,
 "nbformat_minor": 5
}
