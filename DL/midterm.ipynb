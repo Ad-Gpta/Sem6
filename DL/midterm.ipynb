{
 "cells": [
  {
   "cell_type": "code",
   "execution_count": 1,
   "id": "9094aa52",
   "metadata": {},
   "outputs": [
    {
     "name": "stdout",
     "output_type": "stream",
     "text": [
      "Defaulting to user installation because normal site-packages is not writeable\n",
      "Requirement already satisfied: torch in /home/student/.local/lib/python3.10/site-packages (2.2.1)\n",
      "Requirement already satisfied: networkx in /home/student/.local/lib/python3.10/site-packages (from torch) (3.2.1)\n",
      "Requirement already satisfied: nvidia-cudnn-cu12==8.9.2.26 in /home/student/.local/lib/python3.10/site-packages (from torch) (8.9.2.26)\n",
      "Requirement already satisfied: nvidia-cublas-cu12==12.1.3.1 in /home/student/.local/lib/python3.10/site-packages (from torch) (12.1.3.1)\n",
      "Requirement already satisfied: sympy in /usr/lib/python3/dist-packages (from torch) (1.9)\n",
      "Requirement already satisfied: nvidia-nvtx-cu12==12.1.105 in /home/student/.local/lib/python3.10/site-packages (from torch) (12.1.105)\n",
      "Requirement already satisfied: typing-extensions>=4.8.0 in /home/student/.local/lib/python3.10/site-packages (from torch) (4.9.0)\n",
      "Requirement already satisfied: filelock in /home/student/.local/lib/python3.10/site-packages (from torch) (3.13.1)\n",
      "Requirement already satisfied: nvidia-cuda-cupti-cu12==12.1.105 in /home/student/.local/lib/python3.10/site-packages (from torch) (12.1.105)\n",
      "Requirement already satisfied: nvidia-curand-cu12==10.3.2.106 in /home/student/.local/lib/python3.10/site-packages (from torch) (10.3.2.106)\n",
      "Requirement already satisfied: fsspec in /home/student/.local/lib/python3.10/site-packages (from torch) (2024.2.0)\n",
      "Requirement already satisfied: jinja2 in /usr/lib/python3/dist-packages (from torch) (3.0.3)\n",
      "Requirement already satisfied: nvidia-nccl-cu12==2.19.3 in /home/student/.local/lib/python3.10/site-packages (from torch) (2.19.3)\n",
      "Requirement already satisfied: nvidia-cuda-nvrtc-cu12==12.1.105 in /home/student/.local/lib/python3.10/site-packages (from torch) (12.1.105)\n",
      "Requirement already satisfied: nvidia-cufft-cu12==11.0.2.54 in /home/student/.local/lib/python3.10/site-packages (from torch) (11.0.2.54)\n",
      "Requirement already satisfied: triton==2.2.0 in /home/student/.local/lib/python3.10/site-packages (from torch) (2.2.0)\n",
      "Requirement already satisfied: nvidia-cuda-runtime-cu12==12.1.105 in /home/student/.local/lib/python3.10/site-packages (from torch) (12.1.105)\n",
      "Requirement already satisfied: nvidia-cusolver-cu12==11.4.5.107 in /home/student/.local/lib/python3.10/site-packages (from torch) (11.4.5.107)\n",
      "Requirement already satisfied: nvidia-cusparse-cu12==12.1.0.106 in /home/student/.local/lib/python3.10/site-packages (from torch) (12.1.0.106)\n",
      "Requirement already satisfied: nvidia-nvjitlink-cu12 in /home/student/.local/lib/python3.10/site-packages (from nvidia-cusolver-cu12==11.4.5.107->torch) (12.3.101)\n",
      "Note: you may need to restart the kernel to use updated packages.\n"
     ]
    }
   ],
   "source": [
    "#pip install torch"
   ]
  },
  {
   "cell_type": "code",
   "execution_count": 2,
   "id": "26ec5e20",
   "metadata": {},
   "outputs": [
    {
     "name": "stdout",
     "output_type": "stream",
     "text": [
      "Defaulting to user installation because normal site-packages is not writeable\n",
      "Requirement already satisfied: torchvision in /home/student/.local/lib/python3.10/site-packages (0.17.1)\n",
      "Requirement already satisfied: torch==2.2.1 in /home/student/.local/lib/python3.10/site-packages (from torchvision) (2.2.1)\n",
      "Requirement already satisfied: pillow!=8.3.*,>=5.3.0 in /usr/lib/python3/dist-packages (from torchvision) (9.0.1)\n",
      "Requirement already satisfied: numpy in /usr/lib/python3/dist-packages (from torchvision) (1.21.5)\n",
      "Requirement already satisfied: nvidia-nccl-cu12==2.19.3 in /home/student/.local/lib/python3.10/site-packages (from torch==2.2.1->torchvision) (2.19.3)\n",
      "Requirement already satisfied: nvidia-cublas-cu12==12.1.3.1 in /home/student/.local/lib/python3.10/site-packages (from torch==2.2.1->torchvision) (12.1.3.1)\n",
      "Requirement already satisfied: nvidia-cuda-runtime-cu12==12.1.105 in /home/student/.local/lib/python3.10/site-packages (from torch==2.2.1->torchvision) (12.1.105)\n",
      "Requirement already satisfied: filelock in /home/student/.local/lib/python3.10/site-packages (from torch==2.2.1->torchvision) (3.13.1)\n",
      "Requirement already satisfied: nvidia-curand-cu12==10.3.2.106 in /home/student/.local/lib/python3.10/site-packages (from torch==2.2.1->torchvision) (10.3.2.106)\n",
      "Requirement already satisfied: nvidia-cusolver-cu12==11.4.5.107 in /home/student/.local/lib/python3.10/site-packages (from torch==2.2.1->torchvision) (11.4.5.107)\n",
      "Requirement already satisfied: nvidia-cudnn-cu12==8.9.2.26 in /home/student/.local/lib/python3.10/site-packages (from torch==2.2.1->torchvision) (8.9.2.26)\n",
      "Requirement already satisfied: nvidia-nvtx-cu12==12.1.105 in /home/student/.local/lib/python3.10/site-packages (from torch==2.2.1->torchvision) (12.1.105)\n",
      "Requirement already satisfied: sympy in /usr/lib/python3/dist-packages (from torch==2.2.1->torchvision) (1.9)\n",
      "Requirement already satisfied: fsspec in /home/student/.local/lib/python3.10/site-packages (from torch==2.2.1->torchvision) (2024.2.0)\n",
      "Requirement already satisfied: nvidia-cusparse-cu12==12.1.0.106 in /home/student/.local/lib/python3.10/site-packages (from torch==2.2.1->torchvision) (12.1.0.106)\n",
      "Requirement already satisfied: jinja2 in /usr/lib/python3/dist-packages (from torch==2.2.1->torchvision) (3.0.3)\n",
      "Requirement already satisfied: nvidia-cuda-cupti-cu12==12.1.105 in /home/student/.local/lib/python3.10/site-packages (from torch==2.2.1->torchvision) (12.1.105)\n",
      "Requirement already satisfied: nvidia-cuda-nvrtc-cu12==12.1.105 in /home/student/.local/lib/python3.10/site-packages (from torch==2.2.1->torchvision) (12.1.105)\n",
      "Requirement already satisfied: typing-extensions>=4.8.0 in /home/student/.local/lib/python3.10/site-packages (from torch==2.2.1->torchvision) (4.9.0)\n",
      "Requirement already satisfied: networkx in /home/student/.local/lib/python3.10/site-packages (from torch==2.2.1->torchvision) (3.2.1)\n",
      "Requirement already satisfied: triton==2.2.0 in /home/student/.local/lib/python3.10/site-packages (from torch==2.2.1->torchvision) (2.2.0)\n",
      "Requirement already satisfied: nvidia-cufft-cu12==11.0.2.54 in /home/student/.local/lib/python3.10/site-packages (from torch==2.2.1->torchvision) (11.0.2.54)\n",
      "Requirement already satisfied: nvidia-nvjitlink-cu12 in /home/student/.local/lib/python3.10/site-packages (from nvidia-cusolver-cu12==11.4.5.107->torch==2.2.1->torchvision) (12.3.101)\n",
      "Note: you may need to restart the kernel to use updated packages.\n"
     ]
    }
   ],
   "source": [
    "#pip install torchvision"
   ]
  },
  {
   "cell_type": "code",
   "execution_count": 3,
   "id": "12a9cd6b",
   "metadata": {},
   "outputs": [],
   "source": [
    "import torch\n",
    "import torch.nn as nn\n",
    "import torch.nn.functional as F\n",
    "import torchvision\n",
    "import torchvision.transforms as transforms\n",
    "import matplotlib.pyplot as plt"
   ]
  },
  {
   "cell_type": "code",
   "execution_count": 4,
   "id": "84b7e500",
   "metadata": {},
   "outputs": [],
   "source": [
    "device = torch.device('cuda' if torch.cuda.is_available() else 'cpu')"
   ]
  },
  {
   "cell_type": "code",
   "execution_count": 5,
   "id": "c4b53401",
   "metadata": {},
   "outputs": [],
   "source": [
    "input_size = 784 # 28x28\n",
    "hidden_size = 500 \n",
    "num_classes = 10\n",
    "num_epochs = 3\n",
    "batch_size = 4\n",
    "learning_rate = 0.001"
   ]
  },
  {
   "cell_type": "code",
   "execution_count": 6,
   "id": "4c200744",
   "metadata": {},
   "outputs": [
    {
     "name": "stdout",
     "output_type": "stream",
     "text": [
      "Downloading http://yann.lecun.com/exdb/mnist/train-images-idx3-ubyte.gz\n",
      "Failed to download (trying next):\n",
      "HTTP Error 403: Forbidden\n",
      "\n",
      "Downloading https://ossci-datasets.s3.amazonaws.com/mnist/train-images-idx3-ubyte.gz\n",
      "Downloading https://ossci-datasets.s3.amazonaws.com/mnist/train-images-idx3-ubyte.gz to ./data/MNIST/raw/train-images-idx3-ubyte.gz\n"
     ]
    },
    {
     "name": "stderr",
     "output_type": "stream",
     "text": [
      "100.0%\n"
     ]
    },
    {
     "name": "stdout",
     "output_type": "stream",
     "text": [
      "Extracting ./data/MNIST/raw/train-images-idx3-ubyte.gz to ./data/MNIST/raw\n",
      "\n",
      "Downloading http://yann.lecun.com/exdb/mnist/train-labels-idx1-ubyte.gz\n",
      "Failed to download (trying next):\n",
      "HTTP Error 403: Forbidden\n",
      "\n",
      "Downloading https://ossci-datasets.s3.amazonaws.com/mnist/train-labels-idx1-ubyte.gz\n",
      "Downloading https://ossci-datasets.s3.amazonaws.com/mnist/train-labels-idx1-ubyte.gz to ./data/MNIST/raw/train-labels-idx1-ubyte.gz\n"
     ]
    },
    {
     "name": "stderr",
     "output_type": "stream",
     "text": [
      "100.0%\n"
     ]
    },
    {
     "name": "stdout",
     "output_type": "stream",
     "text": [
      "Extracting ./data/MNIST/raw/train-labels-idx1-ubyte.gz to ./data/MNIST/raw\n",
      "\n",
      "Downloading http://yann.lecun.com/exdb/mnist/t10k-images-idx3-ubyte.gz\n",
      "Failed to download (trying next):\n",
      "HTTP Error 403: Forbidden\n",
      "\n",
      "Downloading https://ossci-datasets.s3.amazonaws.com/mnist/t10k-images-idx3-ubyte.gz\n",
      "Downloading https://ossci-datasets.s3.amazonaws.com/mnist/t10k-images-idx3-ubyte.gz to ./data/MNIST/raw/t10k-images-idx3-ubyte.gz\n"
     ]
    },
    {
     "name": "stderr",
     "output_type": "stream",
     "text": [
      "100.0%\n"
     ]
    },
    {
     "name": "stdout",
     "output_type": "stream",
     "text": [
      "Extracting ./data/MNIST/raw/t10k-images-idx3-ubyte.gz to ./data/MNIST/raw\n",
      "\n",
      "Downloading http://yann.lecun.com/exdb/mnist/t10k-labels-idx1-ubyte.gz\n",
      "Failed to download (trying next):\n",
      "HTTP Error 403: Forbidden\n",
      "\n",
      "Downloading https://ossci-datasets.s3.amazonaws.com/mnist/t10k-labels-idx1-ubyte.gz\n",
      "Downloading https://ossci-datasets.s3.amazonaws.com/mnist/t10k-labels-idx1-ubyte.gz to ./data/MNIST/raw/t10k-labels-idx1-ubyte.gz\n"
     ]
    },
    {
     "name": "stderr",
     "output_type": "stream",
     "text": [
      "\r",
      "100.0%"
     ]
    },
    {
     "name": "stdout",
     "output_type": "stream",
     "text": [
      "Extracting ./data/MNIST/raw/t10k-labels-idx1-ubyte.gz to ./data/MNIST/raw\n",
      "\n"
     ]
    },
    {
     "name": "stderr",
     "output_type": "stream",
     "text": [
      "\n"
     ]
    }
   ],
   "source": [
    "# Import MNIST dataset \n",
    "train_dataset = torchvision.datasets.MNIST(root='./data', \n",
    "                                           train=True, \n",
    "                                           transform=transforms.ToTensor(),  \n",
    "                                           download=True)\n",
    "\n",
    "test_dataset = torchvision.datasets.MNIST(root='./data', \n",
    "                                          train=False, \n",
    "                                          transform=transforms.ToTensor())\n",
    "\n",
    "# Data loader\n",
    "train_loader = torch.utils.data.DataLoader(dataset=train_dataset, \n",
    "                                           batch_size=batch_size, \n",
    "                                           shuffle=True)\n",
    "\n",
    "test_loader = torch.utils.data.DataLoader(dataset=test_dataset, \n",
    "                                          batch_size=batch_size, \n",
    "                                          shuffle=False)"
   ]
  },
  {
   "cell_type": "code",
   "execution_count": 8,
   "id": "5d4ce24b",
   "metadata": {},
   "outputs": [
    {
     "data": {
      "image/png": "[encoded data removed]",
      "text/plain": [
       "<Figure size 432x288 with 4 Axes>"
      ]
     },
     "metadata": {
      "needs_background": "light"
     },
     "output_type": "display_data"
    }
   ],
   "source": [
    "examples = iter(test_loader)\n",
    "example_data, example_targets = examples.__next__()\n",
    "\n",
    "for i in range(4):\n",
    "    plt.subplot(2,2,i+1)\n",
    "    plt.imshow(example_data[i][0], cmap='gray')\n",
    "plt.show()"
   ]
  },
  {
   "cell_type": "code",
   "execution_count": 9,
   "id": "7dcce5c6",
   "metadata": {},
   "outputs": [],
   "source": [
    "class CNNClassifier(nn.Module):\n",
    "    def __init__(self):\n",
    "        super().__init__()\n",
    "        self.net = nn.Sequential( nn.Conv2d(1,64,kernel_size = 3),\n",
    "                                 nn.ReLU(),\n",
    "                                 nn.MaxPool2d((2,2), stride = 2),\n",
    "                                 nn.Conv2d(64,128,kernel_size = 3),\n",
    "                                 nn.ReLU(),\n",
    "                                 nn.MaxPool2d((2,2), stride = 2),\n",
    "                                 nn.Conv2d(128,64,kernel_size = 3),\n",
    "                                 nn.ReLU(),\n",
    "                                 nn.MaxPool2d((2,2), stride = 2),\n",
    "                                )\n",
    "        self.classification_head = nn.Sequential(\n",
    "                                nn.Linear(64,20,bias = True),\n",
    "                                nn.ReLU(),\n",
    "                                nn.Linear(20,10,bias = True)\n",
    "                                )\n",
    "    def forward(self, x):\n",
    "        features = self.net(x)\n",
    "        return self.classification_head(features.view(batch_size, -1))"
   ]
  },
  {
   "cell_type": "code",
   "execution_count": 10,
   "id": "86af913b",
   "metadata": {},
   "outputs": [],
   "source": [
    "model = CNNClassifier().to(device)"
   ]
  },
  {
   "cell_type": "code",
   "execution_count": 11,
   "id": "27f7ffe3",
   "metadata": {},
   "outputs": [],
   "source": [
    "criterion = nn.CrossEntropyLoss()\n",
    "optimizer = torch.optim.Adam(model.parameters(), lr=learning_rate)"
   ]
  },
  {
   "cell_type": "code",
   "execution_count": 12,
   "id": "065f0dd8",
   "metadata": {},
   "outputs": [],
   "source": [
    "def save_checkpoint(cp, filename):\n",
    "    torch.save(cp, filename)"
   ]
  },
  {
   "cell_type": "code",
   "execution_count": 14,
   "id": "d336714a",
   "metadata": {},
   "outputs": [
    {
     "name": "stdout",
     "output_type": "stream",
     "text": [
      "Epoch [1/3], Loss: 0.0010\n",
      "Epoch [2/3], Loss: 0.0000\n",
      "Epoch [3/3], Loss: 0.0001\n"
     ]
    }
   ],
   "source": [
    "# Train the model\n",
    "n_total_steps = len(train_loader)\n",
    "for epoch in range(num_epochs):\n",
    "    \n",
    "    if(epoch == 2):\n",
    "        checkpoint = {'model': model.state_dict(),\n",
    "                     'optim': optimizer.state_dict(),\n",
    "                      'loss': loss,\n",
    "                      'epoch_num': epoch\n",
    "                     }\n",
    "        save_checkpoint(checkpoint, 'my_saved_check.pt')\n",
    "    \n",
    "    for i, (images, labels) in enumerate(train_loader): \n",
    "        \n",
    "        # origin shape: [4, 1, 28, 28]\n",
    "        # resized: [4, 784]\n",
    "        #images = images.reshape(-1, 28*28).to(device)\n",
    "        \n",
    "        images = images.to(device)\n",
    "        labels = labels.to(device)\n",
    "\n",
    "        # Forward pass\n",
    "        outputs = model(images)\n",
    "        loss = criterion(outputs, labels)\n",
    "\n",
    "        # Backward and optimize\n",
    "        optimizer.zero_grad()\n",
    "        loss.backward()\n",
    "        optimizer.step()\n",
    "\n",
    "    print (f'Epoch [{epoch+1}/{num_epochs}], Loss: {loss.item():.4f}')"
   ]
  },
  {
   "cell_type": "code",
   "execution_count": 16,
   "id": "01bb4c70",
   "metadata": {},
   "outputs": [],
   "source": [
    "def acc_check(loader):\n",
    "    with torch.no_grad():\n",
    "        n_correct = 0\n",
    "        n_samples = 0\n",
    "        for images, labels in loader:\n",
    "            #images = images.reshape(-1, 28*28).to(device)\n",
    "            images = images.to(device)\n",
    "            labels = labels.to(device)\n",
    "            outputs = model(images)\n",
    "            # max returns (value ,index)\n",
    "            _, predicted = torch.max(outputs.data, 1)\n",
    "            n_samples += labels.size(0)\n",
    "            n_correct += (predicted == labels).sum().item()\n",
    "\n",
    "        acc = 100.0 * n_correct / n_samples\n",
    "        print(f'Accuracy of the network: {acc} %')"
   ]
  },
  {
   "cell_type": "code",
   "execution_count": 19,
   "id": "4887c665",
   "metadata": {},
   "outputs": [
    {
     "name": "stdout",
     "output_type": "stream",
     "text": [
      "Training accuracy:\n",
      "\n",
      "Accuracy of the network on the 10000 test images: 99.36333333333333 %\n",
      "Testing accuracy:\n",
      "\n",
      "Accuracy of the network on the 10000 test images: 98.51 %\n"
     ]
    }
   ],
   "source": [
    "print(\"Training accuracy:\\n\") \n",
    "acc_check(train_loader)\n",
    "print(\"Testing accuracy:\\n\") \n",
    "acc_check(test_loader)"
   ]
  },
  {
   "cell_type": "markdown",
   "id": "9b0cb9dd",
   "metadata": {},
   "source": [
    "# Part 2:"
   ]
  },
  {
   "cell_type": "code",
   "execution_count": 69,
   "id": "1c089511",
   "metadata": {},
   "outputs": [],
   "source": [
    "from torch.utils.data import Dataset, DataLoader"
   ]
  },
  {
   "cell_type": "code",
   "execution_count": 70,
   "id": "97d27f0d",
   "metadata": {},
   "outputs": [],
   "source": [
    "def genGaussian(tindx):\n",
    "    return torch.normal(tindx[0], tindx[1], (1,28,28))\n",
    "\n",
    "class myDataset(Dataset):\n",
    "    def __init__(self, n):\n",
    "        classes = {0: (0.5, 2), 1: (1, 2.5)}\n",
    "        self.y = [torch.round(torch.rand(1))[0].long() for i in range(n)]\n",
    "        self.x = [genGaussian(classes[self.y[i].item()]) for i in range(n)]\n",
    "    def __getitem__(self, i):\n",
    "        return self.x[i], self.y[i]\n",
    "    def __len__(self):\n",
    "        return len(self.x)"
   ]
  },
  {
   "cell_type": "code",
   "execution_count": 93,
   "id": "6bdb92bc",
   "metadata": {},
   "outputs": [],
   "source": [
    "data = myDataset(20) #generating data"
   ]
  },
  {
   "cell_type": "code",
   "execution_count": 94,
   "id": "8825a20d",
   "metadata": {},
   "outputs": [],
   "source": [
    "dataloader = torch.utils.data.DataLoader(dataset=data, \n",
    "                                           batch_size=batch_size, \n",
    "                                           shuffle=True)"
   ]
  },
  {
   "cell_type": "code",
   "execution_count": 101,
   "id": "bf542dea",
   "metadata": {},
   "outputs": [
    {
     "name": "stdout",
     "output_type": "stream",
     "text": [
      "0 [tensor([[[[ 0.7447,  3.0993,  1.7513,  ...,  0.5454, -3.0765,  3.8262],\n",
      "          [-2.9133,  0.1206, -2.4121,  ...,  2.1893, -1.5133,  0.5616],\n",
      "          [ 0.4317,  0.7325,  2.0999,  ...,  3.8638,  0.6724, -0.6132],\n",
      "          ...,\n",
      "          [ 3.3274, -2.3565,  2.6706,  ..., -0.9579,  0.3819, -1.2408],\n",
      "          [ 0.7610, -3.1219,  0.6756,  ..., -1.8285, -1.2630, -1.3972],\n",
      "          [-0.1652,  0.9302, -1.0886,  ...,  0.9017,  3.2513,  1.4431]]],\n",
      "\n",
      "\n",
      "        [[[-3.1905,  2.0222, -0.3588,  ...,  7.2604,  1.8907, -3.4143],\n",
      "          [ 5.7692,  2.3903,  1.8191,  ...,  3.8136,  5.5115,  7.4887],\n",
      "          [ 3.5587,  2.3749,  2.0306,  ..., -0.4546,  1.3477, -2.4495],\n",
      "          ...,\n",
      "          [ 1.8027,  2.8814, -0.3936,  ...,  1.5548, -0.7242, -2.4506],\n",
      "          [ 1.2066,  0.0815, -0.2797,  ..., -4.1345, -2.4537, -0.7404],\n",
      "          [-1.4129, -0.6807,  2.9352,  ...,  1.2528,  0.7097, -2.4006]]],\n",
      "\n",
      "\n",
      "        [[[ 5.7157,  1.3162,  5.3412,  ..., -3.0697,  1.2970,  1.5401],\n",
      "          [ 2.6654, -0.0898,  1.9086,  ..., -1.6938, -1.4453,  0.1281],\n",
      "          [ 4.8606,  0.1070,  1.6441,  ..., -1.8325,  5.1663,  2.0182],\n",
      "          ...,\n",
      "          [-2.4090,  0.3951, -0.8517,  ...,  1.2592, -1.3903,  2.2640],\n",
      "          [ 5.2470,  1.4385,  2.2044,  ...,  2.4182,  3.2539,  2.5866],\n",
      "          [-1.8395,  4.3456,  1.8930,  ...,  3.3493, -0.2148, -4.7770]]],\n",
      "\n",
      "\n",
      "        [[[-0.1695,  2.5729, -0.7453,  ...,  0.8221,  0.2823,  0.4043],\n",
      "          [ 0.9507,  1.3493,  3.5217,  ..., -0.1166,  0.9802,  4.5898],\n",
      "          [-0.9550, -0.3962, -2.0974,  ...,  1.4009,  0.2002,  2.5592],\n",
      "          ...,\n",
      "          [-2.4689,  0.1763,  0.1044,  ...,  1.8405,  1.5812,  2.1396],\n",
      "          [ 1.1971,  2.5572,  2.0953,  ...,  0.3251,  1.5024,  1.6964],\n",
      "          [ 0.4780,  0.9228,  1.8316,  ...,  1.3193, -1.5473,  1.7003]]]]), tensor([0, 1, 1, 0])]\n"
     ]
    }
   ],
   "source": [
    "for i, d in enumerate(dataloader):\n",
    "    print(i, d)\n",
    "    break"
   ]
  },
  {
   "cell_type": "code",
   "execution_count": 116,
   "id": "f90114a2",
   "metadata": {},
   "outputs": [],
   "source": [
    "model = CNNClassifier().to(device)"
   ]
  },
  {
   "cell_type": "code",
   "execution_count": 117,
   "id": "08ede114",
   "metadata": {},
   "outputs": [],
   "source": [
    "checkpoint = torch.load('my_saved_check.pt')\n",
    "model.load_state_dict(checkpoint['model'])\n",
    "optimizer.load_state_dict(checkpoint['optim'])\n",
    "epoch = checkpoint['epoch_num']\n",
    "loss = checkpoint['loss']"
   ]
  },
  {
   "cell_type": "code",
   "execution_count": 118,
   "id": "5fbb13ff",
   "metadata": {},
   "outputs": [],
   "source": [
    "#editing model parameters\n",
    "model.classification_head = nn.Sequential(\n",
    "                                nn.Linear(64,20,bias = True),\n",
    "                                nn.ReLU(),\n",
    "                                nn.Linear(20,2,bias = True)\n",
    "                                )"
   ]
  },
  {
   "cell_type": "code",
   "execution_count": 119,
   "id": "62d6fa7d",
   "metadata": {},
   "outputs": [
    {
     "name": "stdout",
     "output_type": "stream",
     "text": [
      "CNNClassifier(\n",
      "  (net): Sequential(\n",
      "    (0): Conv2d(1, 64, kernel_size=(3, 3), stride=(1, 1))\n",
      "    (1): ReLU()\n",
      "    (2): MaxPool2d(kernel_size=(2, 2), stride=2, padding=0, dilation=1, ceil_mode=False)\n",
      "    (3): Conv2d(64, 128, kernel_size=(3, 3), stride=(1, 1))\n",
      "    (4): ReLU()\n",
      "    (5): MaxPool2d(kernel_size=(2, 2), stride=2, padding=0, dilation=1, ceil_mode=False)\n",
      "    (6): Conv2d(128, 64, kernel_size=(3, 3), stride=(1, 1))\n",
      "    (7): ReLU()\n",
      "    (8): MaxPool2d(kernel_size=(2, 2), stride=2, padding=0, dilation=1, ceil_mode=False)\n",
      "  )\n",
      "  (classification_head): Sequential(\n",
      "    (0): Linear(in_features=64, out_features=20, bias=True)\n",
      "    (1): ReLU()\n",
      "    (2): Linear(in_features=20, out_features=2, bias=True)\n",
      "  )\n",
      ")\n"
     ]
    }
   ],
   "source": [
    "print(model)"
   ]
  },
  {
   "cell_type": "code",
   "execution_count": 124,
   "id": "d46b3b6b",
   "metadata": {},
   "outputs": [],
   "source": [
    "model = model.to(device)"
   ]
  },
  {
   "cell_type": "code",
   "execution_count": 125,
   "id": "60f2f1aa",
   "metadata": {},
   "outputs": [],
   "source": [
    "criterion = nn.CrossEntropyLoss()\n",
    "optimizer = torch.optim.Adam(model.parameters(), lr=learning_rate)"
   ]
  },
  {
   "cell_type": "code",
   "execution_count": 126,
   "id": "c61ab653",
   "metadata": {},
   "outputs": [],
   "source": [
    "n_total_steps = len(data)"
   ]
  },
  {
   "cell_type": "code",
   "execution_count": 127,
   "id": "a67b77c7",
   "metadata": {},
   "outputs": [
    {
     "name": "stdout",
     "output_type": "stream",
     "text": [
      "Epoch [1/3], Loss: 0.9644\n",
      "Epoch [2/3], Loss: 0.3182\n",
      "Epoch [3/3], Loss: 0.0609\n"
     ]
    }
   ],
   "source": [
    "#training the model again:\n",
    "\n",
    "for epoch in range(num_epochs):\n",
    "    \n",
    "    for i, (images, labels) in enumerate(dataloader): \n",
    "        \n",
    "        # origin shape: [4, 1, 28, 28]\n",
    "        # resized: [4, 784]\n",
    "        #images = images.reshape(-1, 28*28).to(device)\n",
    "        \n",
    "        images = images.to(device)\n",
    "        labels = labels.to(device)\n",
    "\n",
    "        # Forward pass\n",
    "        outputs = model(images)\n",
    "        loss = criterion(outputs, labels)\n",
    "\n",
    "        # Backward and optimize\n",
    "        optimizer.zero_grad()\n",
    "        loss.backward()\n",
    "        optimizer.step()\n",
    "\n",
    "    print (f'Epoch [{epoch+1}/{num_epochs}], Loss: {loss.item():.4f}')"
   ]
  },
  {
   "cell_type": "code",
   "execution_count": 128,
   "id": "88fffc2c",
   "metadata": {},
   "outputs": [],
   "source": [
    "#checking accuracy of new model:\n",
    "def acc_check(loader):\n",
    "    with torch.no_grad():\n",
    "        n_correct = 0\n",
    "        n_samples = 0\n",
    "        for images, labels in loader:\n",
    "            #images = images.reshape(-1, 28*28).to(device)\n",
    "            images = images.to(device)\n",
    "            labels = labels.to(device)\n",
    "            outputs = model(images)\n",
    "            # max returns (value ,index)\n",
    "            _, predicted = torch.max(outputs.data, 1)\n",
    "            n_samples += labels.size(0)\n",
    "            n_correct += (predicted == labels).sum().item()\n",
    "\n",
    "        acc = 100.0 * n_correct / n_samples\n",
    "        print(f'Accuracy of the network: {acc} %')"
   ]
  },
  {
   "cell_type": "code",
   "execution_count": 129,
   "id": "ed068c9f",
   "metadata": {},
   "outputs": [
    {
     "name": "stdout",
     "output_type": "stream",
     "text": [
      "Accuracy of the network: 95.0 %\n"
     ]
    }
   ],
   "source": [
    "acc_check(dataloader)"
   ]
  },
  {
   "cell_type": "code",
   "execution_count": null,
   "id": "78751e10",
   "metadata": {},
   "outputs": [],
   "source": []
  }
 ],
 "metadata": {
  "kernelspec": {
   "display_name": "Python 3 (ipykernel)",
   "language": "python",
   "name": "python3"
  },
  "language_info": {
   "codemirror_mode": {
    "name": "ipython",
    "version": 3
   },
   "file_extension": ".py",
   "mimetype": "text/x-python",
   "name": "python",
   "nbconvert_exporter": "python",
   "pygments_lexer": "ipython3",
   "version": "3.10.12"
  }
 },
 "nbformat": 4,
 "nbformat_minor": 5
}
