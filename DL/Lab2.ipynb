{
 "cells": [
  {
   "cell_type": "markdown",
   "id": "d88c6ea6-1a1f-48dd-a8af-3dc9e91f61ff",
   "metadata": {},
   "source": [
    "# Introduction to Tensors"
   ]
  },
  {
   "cell_type": "code",
   "execution_count": 2,
   "id": "39d4e4f5-ae4e-4460-a517-32378b95d8c6",
   "metadata": {},
   "outputs": [],
   "source": [
    "import torch"
   ]
  },
  {
   "cell_type": "code",
   "execution_count": 6,
   "id": "70defbbe-b3fd-468c-913e-ac3834cf37b6",
   "metadata": {},
   "outputs": [
    {
     "data": {
      "text/plain": [
       "tensor([0.9640, 0.0183, 0.9013], requires_grad=True)"
      ]
     },
     "execution_count": 6,
     "metadata": {},
     "output_type": "execute_result"
    }
   ],
   "source": [
    "x = torch.rand(3, requires_grad = True)\n",
    "x"
   ]
  },
  {
   "cell_type": "markdown",
   "id": "226367d1-2099-43e5-a44c-e6e48a55f47c",
   "metadata": {},
   "source": [
    "### Solved Examples"
   ]
  },
  {
   "cell_type": "markdown",
   "id": "ab32024c-03a4-4a12-9770-71533b7edc08",
   "metadata": {},
   "source": [
    "Solved example 1"
   ]
  },
  {
   "cell_type": "code",
   "execution_count": 9,
   "id": "b43d1cb9-ad49-400e-b112-ce930159b10b",
   "metadata": {},
   "outputs": [
    {
     "name": "stdout",
     "output_type": "stream",
     "text": [
      "x:  tensor(3.5000, requires_grad=True)\n",
      "y:  tensor(12.2500, grad_fn=<PowBackward0>)\n",
      "z:  tensor(27.5000, grad_fn=<AddBackward0>)\n",
      "grad of dz/dx at x = 3.5:  14.0\n"
     ]
    }
   ],
   "source": [
    "#setting up a simple graph relating x, y, z\n",
    "x = torch.tensor(3.5, requires_grad = True)\n",
    "\n",
    "#equations\n",
    "y = x**2\n",
    "z = 2*y + 3\n",
    "\n",
    "#values of each variable\n",
    "print(\"x: \",x)\n",
    "print(\"y: \",y)\n",
    "print(\"z: \",z)\n",
    "\n",
    "#gradients:\n",
    "z.backward()\n",
    "print(\"grad of dz/dx at x = 3.5: \", x.grad.item())"
   ]
  },
  {
   "cell_type": "markdown",
   "id": "81b80747-4605-4c92-8bfe-ba223d9e85dc",
   "metadata": {},
   "source": [
    "    Solved example 2"
   ]
  },
  {
   "cell_type": "code",
   "execution_count": 10,
   "id": "3669f8a4-4651-4418-917d-dbf843fc1678",
   "metadata": {},
   "outputs": [
    {
     "name": "stdout",
     "output_type": "stream",
     "text": [
      "Analytical f'(x):  tensor([-2.], grad_fn=<MulBackward0>)\n",
      "Pytorch f'(x): tensor([-2.])\n"
     ]
    }
   ],
   "source": [
    "def f(x):\n",
    "    return (x-2)**2\n",
    "def fp(x):\n",
    "    return 2*(x-2)\n",
    "\n",
    "x = torch.tensor([1.0], requires_grad = True)\n",
    "y = f(x)\n",
    "y.backward()\n",
    "\n",
    "print('Analytical f\\'(x): ',fp(x))\n",
    "print('Pytorch f\\'(x):',x.grad)"
   ]
  },
  {
   "cell_type": "markdown",
   "id": "b42ef23d-4817-471d-b588-c615abdc81a2",
   "metadata": {},
   "source": [
    "Solved example 3"
   ]
  },
  {
   "cell_type": "code",
   "execution_count": 11,
   "id": "7f46be50-7ac5-477b-b0f7-3d72395673a8",
   "metadata": {},
   "outputs": [
    {
     "name": "stdout",
     "output_type": "stream",
     "text": [
      "tensor([2.], requires_grad=True)\n",
      "tensor([9.], grad_fn=<AddBackward0>)\n",
      "Analytical grad:  tensor([4.], grad_fn=<MulBackward0>)\n",
      "Pytorch grad: : tensor([4.])\n"
     ]
    }
   ],
   "source": [
    "x = torch.tensor([2.0])\n",
    "x.requires_grad_(True)\n",
    "print(x)\n",
    "\n",
    "y = x**2 + 5\n",
    "print(y)\n",
    "\n",
    "a_grad = 2*x\n",
    "\n",
    "y.backward()\n",
    "print(\"Analytical grad: \", a_grad)\n",
    "print(\"Pytorch grad: :\", x.grad)"
   ]
  },
  {
   "cell_type": "markdown",
   "id": "c10e3c6b-bb80-41b9-bc27-c5523795f20c",
   "metadata": {},
   "source": [
    "### Exercise questions"
   ]
  },
  {
   "cell_type": "markdown",
   "id": "c38bd7fc-70e8-49cd-a674-71fa5cbb3721",
   "metadata": {},
   "source": [
    "Q1)"
   ]
  },
  {
   "cell_type": "code",
   "execution_count": 15,
   "id": "54d56936-f991-49cd-b0e1-1d63b447fc5a",
   "metadata": {},
   "outputs": [
    {
     "name": "stdout",
     "output_type": "stream",
     "text": [
      "PyTorch: \n",
      "dz/da =  tensor([34.])\n",
      "dz/db =  tensor([249.])\n",
      "\n",
      "Analytical: \n",
      "dz/da =  tensor([34.], grad_fn=<AddBackward0>)\n"
     ]
    }
   ],
   "source": [
    "a = torch.tensor([1.0], requires_grad = True)\n",
    "b = torch.tensor([3.0], requires_grad = True)\n",
    "\n",
    "x = 2*a + 3* b\n",
    "y = 5*a**2 + 3*b**3\n",
    "z = 2*x + 3*y\n",
    "\n",
    "z.backward()\n",
    "print(\"PyTorch: \")\n",
    "print(\"dz/da = \", a.grad)\n",
    "print(\"dz/db = \", b.grad)\n",
    "\n",
    "print(\"\\nAnalytical: \")\n",
    "dzdx = 2\n",
    "dzdy = 3\n",
    "dxda = 2\n",
    "dyda = 10*a\n",
    "\n",
    "dzda = dzdx * dxda + dzdy * dyda\n",
    "print(\"dz/da = \", dzda)"
   ]
  },
  {
   "cell_type": "markdown",
   "id": "ca4e6aa7-6813-4b9d-b26e-438b2d1fb1b9",
   "metadata": {},
   "source": [
    "Q2)"
   ]
  },
  {
   "cell_type": "code",
   "execution_count": 16,
   "id": "31544d74-8b3c-4f05-a632-1fc7d8bf33c1",
   "metadata": {},
   "outputs": [
    {
     "name": "stdout",
     "output_type": "stream",
     "text": [
      "Pytorch grad:  tensor([2.])\n"
     ]
    }
   ],
   "source": [
    "b = torch.tensor([1.0])\n",
    "x = torch.tensor([2.0])\n",
    "w = torch.tensor([3.0], requires_grad = True)\n",
    "\n",
    "u = w*x\n",
    "v = u + b\n",
    "a = torch.relu(v)\n",
    "\n",
    "a.backward()\n",
    "print(\"Pytorch grad: \", w.grad)"
   ]
  },
  {
   "cell_type": "markdown",
   "id": "9aa820b4-36b0-4496-9dd8-c4fbd29f8f3b",
   "metadata": {},
   "source": [
    "Q3)"
   ]
  },
  {
   "cell_type": "code",
   "execution_count": 18,
   "id": "a88d64aa-f040-48d9-9036-805e2082611c",
   "metadata": {},
   "outputs": [
    {
     "name": "stdout",
     "output_type": "stream",
     "text": [
      "Pytorch grad:  tensor([0.0018])\n"
     ]
    }
   ],
   "source": [
    "b = torch.tensor([1.0])\n",
    "x = torch.tensor([2.0])\n",
    "w = torch.tensor([3.0], requires_grad = True)\n",
    "\n",
    "u = w*x\n",
    "v = u + b\n",
    "a = torch.sigmoid(v)\n",
    "\n",
    "a.backward()\n",
    "print(\"Pytorch grad: \", w.grad)"
   ]
  },
  {
   "cell_type": "markdown",
   "id": "463e4d71-290f-4053-91e5-ff619615215e",
   "metadata": {},
   "source": [
    "Q4)"
   ]
  },
  {
   "cell_type": "code",
   "execution_count": 20,
   "id": "cf5da933-8a42-45d5-a839-d4582b2ad8b4",
   "metadata": {},
   "outputs": [
    {
     "name": "stdout",
     "output_type": "stream",
     "text": [
      "grad:  tensor([-0.0974])\n",
      "grad:  tensor([-0.0974])\n"
     ]
    }
   ],
   "source": [
    "x = torch.tensor([1.0], requires_grad = True)\n",
    "\n",
    "f = torch.exp(-x**2 - 2*x - torch.sin(x))\n",
    "f.backward()\n",
    "\n",
    "print(\"grad: \", x.grad)\n",
    "\n",
    "x = torch.tensor([1.0], requires_grad = True)\n",
    "\n",
    "a = x**2\n",
    "b = 2*x\n",
    "c = torch.sin(x)\n",
    "\n",
    "f = torch.exp(-a - b - c)\n",
    "f.backward()\n",
    "\n",
    "print(\"grad: \", x.grad)"
   ]
  },
  {
   "cell_type": "markdown",
   "id": "587395f8-5e72-4739-8a53-4d89b2ae98b6",
   "metadata": {},
   "source": [
    "Q5)"
   ]
  },
  {
   "cell_type": "code",
   "execution_count": 22,
   "id": "50ef2df0-a26c-4864-9376-2d42dc5583b7",
   "metadata": {},
   "outputs": [
    {
     "name": "stdout",
     "output_type": "stream",
     "text": [
      "grad:  tensor([326.])\n"
     ]
    }
   ],
   "source": [
    "x = torch.tensor([2.0], requires_grad = True)\n",
    "\n",
    "a = 8*x**4\n",
    "b = 3*x**3\n",
    "c = 7*x**2\n",
    "d = 6*x\n",
    "\n",
    "y = a+b+c+d+3\n",
    "\n",
    "y.backward()\n",
    "print(\"grad: \", x.grad)"
   ]
  },
  {
   "cell_type": "markdown",
   "id": "bb08ed76-c112-43f4-9349-1ef455b87b99",
   "metadata": {},
   "source": [
    "Q6)"
   ]
  },
  {
   "cell_type": "code",
   "execution_count": 23,
   "id": "e7896da1-32c4-4fbf-8e77-dadb8947d618",
   "metadata": {},
   "outputs": [
    {
     "name": "stdout",
     "output_type": "stream",
     "text": [
      "df/dx:  tensor([0.0581])\n",
      "df/dy:  tensor([0.0266])\n",
      "df/dz:  tensor([0.0194])\n"
     ]
    }
   ],
   "source": [
    "x = torch.tensor([1.0], requires_grad = True)\n",
    "y = torch.tensor([2.0], requires_grad = True)\n",
    "z = torch.tensor([3.0], requires_grad = True)\n",
    "\n",
    "a = 2*x\n",
    "b = torch.sin(y)\n",
    "c = a/b\n",
    "d = c*z\n",
    "e = torch.log(d+1)\n",
    "f = torch.tanh(e)\n",
    "\n",
    "f.backward()\n",
    "\n",
    "print(\"df/dx: \", x.grad)\n",
    "print(\"df/dy: \", y.grad)\n",
    "print(\"df/dz: \", z.grad)"
   ]
  },
  {
   "cell_type": "code",
   "execution_count": null,
   "id": "32439316-be6e-4ccf-bbf9-0c362a7e92f2",
   "metadata": {},
   "outputs": [],
   "source": []
  }
 ],
 "metadata": {
  "kernelspec": {
   "display_name": "Python 3 (ipykernel)",
   "language": "python",
   "name": "python3"
  },
  "language_info": {
   "codemirror_mode": {
    "name": "ipython",
    "version": 3
   },
   "file_extension": ".py",
   "mimetype": "text/x-python",
   "name": "python",
   "nbconvert_exporter": "python",
   "pygments_lexer": "ipython3",
   "version": "3.11.7"
  }
 },
 "nbformat": 4,
 "nbformat_minor": 5
}
