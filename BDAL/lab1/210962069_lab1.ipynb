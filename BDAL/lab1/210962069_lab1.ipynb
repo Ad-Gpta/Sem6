{
 "cells": [
  {
   "cell_type": "markdown",
   "metadata": {},
   "source": [
    "# Lab1\n",
    "## Introduction to Basic PySpark Programs"
   ]
  },
  {
   "cell_type": "markdown",
   "metadata": {},
   "source": [
    "Lab Exercises:\n",
    "\n",
    "1) Write a PySpark program to square set of integers.\n",
    "\n",
    "2) Write a PySpark program to find the maximum of given set of numbers.\n",
    "\n",
    "3) Write a PySpark program to find average of N numbers.\n",
    "\n",
    "4) Demonstrate how to read a CSV file into a PySpark DataFrame.\n",
    "\n",
    "5) Use PySpark commands to display the first few rows and schema of a DataFrame.\n",
    "\n",
    "6) Calculate basic summary statistics for a specific column in the DataFrame."
   ]
  },
  {
   "cell_type": "code",
   "execution_count": 1,
   "metadata": {},
   "outputs": [],
   "source": [
    "import pyspark\n",
    "import os\n",
    "import sys\n",
    "from pyspark import SparkContext\n",
    "from pyspark import SparkConf\n",
    "os.environ['PYSPARK_PYTHON'] = sys.executable\n",
    "os.environ['PYSPARK_DRIVER_PYTHON'] = sys.executable\n",
    "\n",
    "from pyspark.sql import SparkSession"
   ]
  },
  {
   "cell_type": "code",
   "execution_count": 2,
   "metadata": {},
   "outputs": [
    {
     "name": "stderr",
     "output_type": "stream",
     "text": [
      "/home/lplab/anaconda3/lib/python3.7/site-packages/pyspark/context.py:317: FutureWarning: Python 3.7 support is deprecated in Spark 3.4.\n",
      "  warnings.warn(\"Python 3.7 support is deprecated in Spark 3.4.\", FutureWarning)\n"
     ]
    }
   ],
   "source": [
    "#create a pySpark session called spark\n",
    "#config sets the size of the memory\n",
    "#getOrCreate() method returns an existing SparkSession or creates a new one if none exists.\n",
    "\n",
    "spark = SparkSession.builder.config(\"spark.driver.memory\",\"16g\").appName('square').getOrCreate()"
   ]
  },
  {
   "cell_type": "code",
   "execution_count": 8,
   "metadata": {},
   "outputs": [
    {
     "data": {
      "text/html": [
       "<div>\n",
       "<style scoped>\n",
       "    .dataframe tbody tr th:only-of-type {\n",
       "        vertical-align: middle;\n",
       "    }\n",
       "\n",
       "    .dataframe tbody tr th {\n",
       "        vertical-align: top;\n",
       "    }\n",
       "\n",
       "    .dataframe thead th {\n",
       "        text-align: right;\n",
       "    }\n",
       "</style>\n",
       "<table border=\"1\" class=\"dataframe\">\n",
       "  <thead>\n",
       "    <tr style=\"text-align: right;\">\n",
       "      <th></th>\n",
       "      <th>int</th>\n",
       "      <th>float</th>\n",
       "      <th>int_arr</th>\n",
       "    </tr>\n",
       "  </thead>\n",
       "  <tbody>\n",
       "    <tr>\n",
       "      <th>0</th>\n",
       "      <td>1</td>\n",
       "      <td>4.0</td>\n",
       "      <td>[1, 2]</td>\n",
       "    </tr>\n",
       "    <tr>\n",
       "      <th>1</th>\n",
       "      <td>2</td>\n",
       "      <td>5.0</td>\n",
       "      <td>[3, 4, 5]</td>\n",
       "    </tr>\n",
       "    <tr>\n",
       "      <th>2</th>\n",
       "      <td>3</td>\n",
       "      <td>6.0</td>\n",
       "      <td>[6, 7, 8]</td>\n",
       "    </tr>\n",
       "  </tbody>\n",
       "</table>\n",
       "</div>"
      ],
      "text/plain": [
       "   int  float    int_arr\n",
       "0    1    4.0     [1, 2]\n",
       "1    2    5.0  [3, 4, 5]\n",
       "2    3    6.0  [6, 7, 8]"
      ]
     },
     "execution_count": 8,
     "metadata": {},
     "output_type": "execute_result"
    }
   ],
   "source": [
    "import pandas as pd\n",
    "from pyspark.sql import functions as F\n",
    "\n",
    "data = {'int':[1,2,3],'float':[4.0, 5.0, 6.0],'int_arr':[[1,2],[3,4,5],[6,7,8]]}\n",
    "df_pd = pd.DataFrame(data)\n",
    "\n",
    "df_pd"
   ]
  },
  {
   "cell_type": "code",
   "execution_count": 9,
   "metadata": {},
   "outputs": [
    {
     "name": "stdout",
     "output_type": "stream",
     "text": [
      "root\n",
      " |-- int: long (nullable = true)\n",
      " |-- float: double (nullable = true)\n",
      " |-- int_arr: array (nullable = true)\n",
      " |    |-- element: long (containsNull = true)\n",
      "\n",
      "+---+-----+---------+\n",
      "|int|float|  int_arr|\n",
      "+---+-----+---------+\n",
      "|  1|  4.0|   [1, 2]|\n",
      "|  2|  5.0|[3, 4, 5]|\n",
      "|  3|  6.0|[6, 7, 8]|\n",
      "+---+-----+---------+\n",
      "\n"
     ]
    }
   ],
   "source": [
    "df = spark.createDataFrame(df_pd)\n",
    "df.printSchema()\n",
    "df.show()"
   ]
  },
  {
   "cell_type": "code",
   "execution_count": 10,
   "metadata": {},
   "outputs": [],
   "source": [
    "from pyspark.sql.functions import udf #user defined functions\n",
    "@udf # creates a user defined function\n",
    "def square(x):\n",
    "    return x*x"
   ]
  },
  {
   "cell_type": "code",
   "execution_count": 16,
   "metadata": {},
   "outputs": [
    {
     "data": {
      "text/plain": [
       "1"
      ]
     },
     "execution_count": 16,
     "metadata": {},
     "output_type": "execute_result"
    }
   ],
   "source": [
    "\"\"\"\n",
    "from pyspark.sql.types import IntegerType\n",
    "from pyspark.sql import functions as F\n",
    "from pyspark.sql import SparkSession\n",
    "from pyspark.sql import udf\n",
    "\n",
    "pyspark.sql.functions.udf(f=None, returnType=StringType)\n",
    "\n",
    "\n",
    "sq_udf_int = F.udf(lambda z: square(z), IntegerType())\n",
    "(\n",
    "df.select('int',sq_udf_int('int').alias('int_sq')).show()\n",
    ")\n",
    "\"\"\"\n",
    "1"
   ]
  },
  {
   "cell_type": "code",
   "execution_count": 13,
   "metadata": {},
   "outputs": [
    {
     "name": "stdout",
     "output_type": "stream",
     "text": [
      "+---+------+\n",
      "|int|int_sq|\n",
      "+---+------+\n",
      "|  1|     1|\n",
      "|  2|     4|\n",
      "|  3|     9|\n",
      "+---+------+\n",
      "\n"
     ]
    }
   ],
   "source": [
    "df.select('int',square('int').alias('int_sq')).show()\n"
   ]
  },
  {
   "cell_type": "markdown",
   "metadata": {},
   "source": [
    "2) Write a PySpark program to find the maximum of given set of numbers."
   ]
  },
  {
   "cell_type": "code",
   "execution_count": 17,
   "metadata": {},
   "outputs": [
    {
     "name": "stdout",
     "output_type": "stream",
     "text": [
      "+---+-----+---------+\n",
      "|int|float|  int_arr|\n",
      "+---+-----+---------+\n",
      "|  1|  4.0|   [1, 2]|\n",
      "|  2|  5.0|[3, 4, 5]|\n",
      "|  3|  6.0|[6, 7, 8]|\n",
      "+---+-----+---------+\n",
      "\n"
     ]
    }
   ],
   "source": [
    "#trying using previous spark session\n",
    "\n",
    "df.show()"
   ]
  },
  {
   "cell_type": "code",
   "execution_count": 19,
   "metadata": {},
   "outputs": [
    {
     "name": "stdout",
     "output_type": "stream",
     "text": [
      "max int:  3\n"
     ]
    }
   ],
   "source": [
    "print('max int: ',df.select('int').rdd.max()[0])"
   ]
  },
  {
   "cell_type": "code",
   "execution_count": 21,
   "metadata": {},
   "outputs": [
    {
     "name": "stdout",
     "output_type": "stream",
     "text": [
      "Row(int=3)\n"
     ]
    }
   ],
   "source": [
    "print(df.select('int').rdd.max())"
   ]
  },
  {
   "cell_type": "markdown",
   "metadata": {},
   "source": [
    "3) Write a PySpark program to find average of N numbers."
   ]
  },
  {
   "cell_type": "code",
   "execution_count": 22,
   "metadata": {},
   "outputs": [
    {
     "name": "stdout",
     "output_type": "stream",
     "text": [
      "+--------+\n",
      "|avg(int)|\n",
      "+--------+\n",
      "|     2.0|\n",
      "+--------+\n",
      "\n",
      "None\n"
     ]
    }
   ],
   "source": [
    "print(df.agg(F.avg(df['int'])).show())"
   ]
  },
  {
   "cell_type": "markdown",
   "metadata": {},
   "source": [
    "4) Demonstrate how to read a CSV file into a PySpark DataFrame."
   ]
  },
  {
   "cell_type": "code",
   "execution_count": 23,
   "metadata": {},
   "outputs": [],
   "source": [
    "df = spark.read.csv('/home/lplab/Desktop/210962069/lab1/data.csv', header ='True', inferSchema='True')"
   ]
  },
  {
   "cell_type": "code",
   "execution_count": 29,
   "metadata": {},
   "outputs": [
    {
     "name": "stdout",
     "output_type": "stream",
     "text": [
      "+---+-----+-------+\n",
      "|int|float|int_arr|\n",
      "+---+-----+-------+\n",
      "|  4|  1.0|  [1,2]|\n",
      "|  5|  2.0|[3,5,7]|\n",
      "|  6|  3.0| [4, 8]|\n",
      "+---+-----+-------+\n",
      "\n"
     ]
    }
   ],
   "source": [
    "df.show()"
   ]
  },
  {
   "cell_type": "markdown",
   "metadata": {},
   "source": [
    "5) Use PySpark commands to display the first few rows and schema of a DataFrame."
   ]
  },
  {
   "cell_type": "code",
   "execution_count": 28,
   "metadata": {},
   "outputs": [
    {
     "name": "stdout",
     "output_type": "stream",
     "text": [
      "root\n",
      " |-- int: integer (nullable = true)\n",
      " |-- float: double (nullable = true)\n",
      " |-- int_arr: string (nullable = true)\n",
      "\n"
     ]
    },
    {
     "data": {
      "text/plain": [
       "Row(int=4, float=1.0, int_arr='[1,2]')"
      ]
     },
     "execution_count": 28,
     "metadata": {},
     "output_type": "execute_result"
    }
   ],
   "source": [
    "df.printSchema()\n",
    "df.head()"
   ]
  },
  {
   "cell_type": "markdown",
   "metadata": {},
   "source": [
    "6) Calculate basic summary statistics for a specific column in the DataFrame."
   ]
  },
  {
   "cell_type": "code",
   "execution_count": 30,
   "metadata": {},
   "outputs": [
    {
     "name": "stdout",
     "output_type": "stream",
     "text": [
      "+-------+---+-----+-------+\n",
      "|summary|int|float|int_arr|\n",
      "+-------+---+-----+-------+\n",
      "|  count|  3|    3|      3|\n",
      "|   mean|5.0|  2.0|   null|\n",
      "| stddev|1.0|  1.0|   null|\n",
      "|    min|  4|  1.0|  [1,2]|\n",
      "|    25%|  4|  1.0|   null|\n",
      "|    50%|  5|  2.0|   null|\n",
      "|    75%|  6|  3.0|   null|\n",
      "|    max|  6|  3.0| [4, 8]|\n",
      "+-------+---+-----+-------+\n",
      "\n",
      "+-------+---+\n",
      "|summary|int|\n",
      "+-------+---+\n",
      "|  count|  3|\n",
      "|   mean|5.0|\n",
      "| stddev|1.0|\n",
      "|    min|  4|\n",
      "|    25%|  4|\n",
      "|    50%|  5|\n",
      "|    75%|  6|\n",
      "|    max|  6|\n",
      "+-------+---+\n",
      "\n"
     ]
    }
   ],
   "source": [
    "df.summary().show()\n",
    "df.select('int').summary().show()"
   ]
  },
  {
   "cell_type": "code",
   "execution_count": null,
   "metadata": {},
   "outputs": [],
   "source": []
  }
 ],
 "metadata": {
  "kernelspec": {
   "display_name": "Python 3 (ipykernel)",
   "language": "python",
   "name": "python3"
  },
  "language_info": {
   "codemirror_mode": {
    "name": "ipython",
    "version": 3
   },
   "file_extension": ".py",
   "mimetype": "text/x-python",
   "name": "python",
   "nbconvert_exporter": "python",
   "pygments_lexer": "ipython3",
   "version": "3.7.0"
  }
 },
 "nbformat": 4,
 "nbformat_minor": 2
}
